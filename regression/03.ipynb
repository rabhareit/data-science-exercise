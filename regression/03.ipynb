{
 "cells": [
  {
   "cell_type": "markdown",
   "metadata": {},
   "source": [
    "# 回帰"
   ]
  },
  {
   "cell_type": "markdown",
   "metadata": {},
   "source": [
    "### Q1. Airbnbの宿泊料金データの準備\n",
    "[Airbnb](https://www.airbnb.com)は民泊マッチングサービスの最大手であり，様々な民泊施設の空き状況，宿泊料金を確認し，予約を行うことができる．[Inside Airbnb](http://insideairbnb.com/get-the-data.html)では，Airbnbに掲載された民泊物件のデータが公開されており，宿泊料金を含めた各民泊の各種物件情報を取得することができる．以後の課題では，Inside Airbnbに公開された東京の民泊データを用いて，宿泊料金以外の民泊の物件情報から宿泊料金を予測する回帰モデルを構築する．\n",
    "\n",
    "以下の手順に従って，分析に用いるデータを準備せよ：\n",
    "1. Inside Airbnbから最新の東京（Tokyo, Kanto, Japan）の``listings.csv.gz``ファイル（csvの圧縮ファイル）をダウンロードし``pandas``のデータフレームに格納せよ．なお，データフレームの変数名は``listing_df``とせよ．\n",
    "2. ``listing_df``には，2万を超える民泊物件に関して，物件ID（``id``）や料金（``price``）など106個の属性（特徴量）の情報が格納されている．``data/airbnb``ディレクトリの``features.tsv``ファイルには，各属性の意味と今回の課題で用いるか否かのフラグが記されている．``features.tsv``ファイルを用いて，データフレーム``listing_df``から課題で用いない属性を削除せよ．"
   ]
  },
  {
   "cell_type": "code",
   "execution_count": 53,
   "metadata": {},
   "outputs": [],
   "source": [
    "import pandas\n"
   ]
  },
  {
   "cell_type": "code",
   "execution_count": 54,
   "metadata": {},
   "outputs": [],
   "source": [
    "listings_orig = pandas.read_csv('../data/listings.csv')\n"
   ]
  },
  {
   "cell_type": "code",
   "execution_count": 55,
   "metadata": {},
   "outputs": [],
   "source": [
    "features = pandas.read_csv('../data/features.tsv', sep='\\t')\n",
    "unused_features = features[features['is_used']!=1.0]"
   ]
  },
  {
   "cell_type": "code",
   "execution_count": 56,
   "metadata": {},
   "outputs": [],
   "source": [
    "listings_df = listings_orig.drop(columns=unused_features.feature)"
   ]
  },
  {
   "cell_type": "code",
   "execution_count": 57,
   "metadata": {},
   "outputs": [
    {
     "output_type": "execute_result",
     "data": {
      "text/plain": "       host_response_time host_response_rate host_acceptance_rate  \\\n0                     NaN                NaN                  NaN   \n1      within a few hours               100%                  85%   \n2      within a few hours               100%                  80%   \n3            within a day               100%                  92%   \n4      within a few hours               100%                  80%   \n...                   ...                ...                  ...   \n14710                 NaN                NaN                  NaN   \n14711      within an hour               100%                 100%   \n14712      within an hour               100%                 100%   \n14713      within an hour               100%                 100%   \n14714      within an hour               100%                 100%   \n\n      host_is_superhost  host_listings_count host_has_profile_pic  \\\n0                     f                  3.0                    t   \n1                     t                  1.0                    t   \n2                     f                  2.0                    t   \n3                     t                  3.0                    t   \n4                     f                  2.0                    t   \n...                 ...                  ...                  ...   \n14710                 f                  0.0                    t   \n14711                 f                 76.0                    t   \n14712                 f                  3.0                    t   \n14713                 f                  3.0                    t   \n14714                 f                  3.0                    t   \n\n      host_identity_verified neighbourhood_cleansed is_location_exact  \\\n0                          t             Shibuya Ku                 t   \n1                          t              Sumida Ku                 f   \n2                          t              Nerima Ku                 f   \n3                          t            Setagaya Ku                 t   \n4                          t              Nerima Ku                 f   \n...                      ...                    ...               ...   \n14710                      f               Taito Ku                 t   \n14711                      f                Kita Ku                 t   \n14712                      f            Shinjuku Ku                 t   \n14713                      f            Shinjuku Ku                 t   \n14714                      f            Shinjuku Ku                 t   \n\n      property_type  ... review_scores_communication  review_scores_location  \\\n0         Apartment  ...                        10.0                    10.0   \n1         Apartment  ...                        10.0                     9.0   \n2         Apartment  ...                         9.0                     9.0   \n3         Apartment  ...                        10.0                    10.0   \n4         Apartment  ...                        10.0                     9.0   \n...             ...  ...                         ...                     ...   \n14710     Apartment  ...                         NaN                     NaN   \n14711     Apartment  ...                         NaN                     NaN   \n14712     Apartment  ...                         NaN                     NaN   \n14713     Apartment  ...                         NaN                     NaN   \n14714     Apartment  ...                         NaN                     NaN   \n\n       review_scores_value  requires_license  instant_bookable  \\\n0                      9.0                 t                 f   \n1                     10.0                 t                 f   \n2                      9.0                 t                 f   \n3                     10.0                 t                 t   \n4                     10.0                 t                 f   \n...                    ...               ...               ...   \n14710                  NaN                 t                 t   \n14711                  NaN                 t                 t   \n14712                  NaN                 t                 t   \n14713                  NaN                 t                 t   \n14714                  NaN                 t                 t   \n\n      is_business_travel_ready          cancellation_policy  \\\n0                            f  strict_14_with_grace_period   \n1                            f                     moderate   \n2                            f  strict_14_with_grace_period   \n3                            f                     moderate   \n4                            f  strict_14_with_grace_period   \n...                        ...                          ...   \n14710                        f  strict_14_with_grace_period   \n14711                        f                     flexible   \n14712                        f  strict_14_with_grace_period   \n14713                        f  strict_14_with_grace_period   \n14714                        f  strict_14_with_grace_period   \n\n      require_guest_profile_picture require_guest_phone_verification  \\\n0                                 f                                f   \n1                                 f                                f   \n2                                 f                                f   \n3                                 f                                f   \n4                                 f                                f   \n...                             ...                              ...   \n14710                             f                                f   \n14711                             f                                f   \n14712                             f                                f   \n14713                             f                                f   \n14714                             f                                f   \n\n      reviews_per_month  \n0                  0.17  \n1                  1.55  \n2                  1.16  \n3                  1.35  \n4                  1.11  \n...                 ...  \n14710               NaN  \n14711               NaN  \n14712               NaN  \n14713               NaN  \n14714               NaN  \n\n[14715 rows x 37 columns]",
      "text/html": "<div>\n<style scoped>\n    .dataframe tbody tr th:only-of-type {\n        vertical-align: middle;\n    }\n\n    .dataframe tbody tr th {\n        vertical-align: top;\n    }\n\n    .dataframe thead th {\n        text-align: right;\n    }\n</style>\n<table border=\"1\" class=\"dataframe\">\n  <thead>\n    <tr style=\"text-align: right;\">\n      <th></th>\n      <th>host_response_time</th>\n      <th>host_response_rate</th>\n      <th>host_acceptance_rate</th>\n      <th>host_is_superhost</th>\n      <th>host_listings_count</th>\n      <th>host_has_profile_pic</th>\n      <th>host_identity_verified</th>\n      <th>neighbourhood_cleansed</th>\n      <th>is_location_exact</th>\n      <th>property_type</th>\n      <th>...</th>\n      <th>review_scores_communication</th>\n      <th>review_scores_location</th>\n      <th>review_scores_value</th>\n      <th>requires_license</th>\n      <th>instant_bookable</th>\n      <th>is_business_travel_ready</th>\n      <th>cancellation_policy</th>\n      <th>require_guest_profile_picture</th>\n      <th>require_guest_phone_verification</th>\n      <th>reviews_per_month</th>\n    </tr>\n  </thead>\n  <tbody>\n    <tr>\n      <th>0</th>\n      <td>NaN</td>\n      <td>NaN</td>\n      <td>NaN</td>\n      <td>f</td>\n      <td>3.0</td>\n      <td>t</td>\n      <td>t</td>\n      <td>Shibuya Ku</td>\n      <td>t</td>\n      <td>Apartment</td>\n      <td>...</td>\n      <td>10.0</td>\n      <td>10.0</td>\n      <td>9.0</td>\n      <td>t</td>\n      <td>f</td>\n      <td>f</td>\n      <td>strict_14_with_grace_period</td>\n      <td>f</td>\n      <td>f</td>\n      <td>0.17</td>\n    </tr>\n    <tr>\n      <th>1</th>\n      <td>within a few hours</td>\n      <td>100%</td>\n      <td>85%</td>\n      <td>t</td>\n      <td>1.0</td>\n      <td>t</td>\n      <td>t</td>\n      <td>Sumida Ku</td>\n      <td>f</td>\n      <td>Apartment</td>\n      <td>...</td>\n      <td>10.0</td>\n      <td>9.0</td>\n      <td>10.0</td>\n      <td>t</td>\n      <td>f</td>\n      <td>f</td>\n      <td>moderate</td>\n      <td>f</td>\n      <td>f</td>\n      <td>1.55</td>\n    </tr>\n    <tr>\n      <th>2</th>\n      <td>within a few hours</td>\n      <td>100%</td>\n      <td>80%</td>\n      <td>f</td>\n      <td>2.0</td>\n      <td>t</td>\n      <td>t</td>\n      <td>Nerima Ku</td>\n      <td>f</td>\n      <td>Apartment</td>\n      <td>...</td>\n      <td>9.0</td>\n      <td>9.0</td>\n      <td>9.0</td>\n      <td>t</td>\n      <td>f</td>\n      <td>f</td>\n      <td>strict_14_with_grace_period</td>\n      <td>f</td>\n      <td>f</td>\n      <td>1.16</td>\n    </tr>\n    <tr>\n      <th>3</th>\n      <td>within a day</td>\n      <td>100%</td>\n      <td>92%</td>\n      <td>t</td>\n      <td>3.0</td>\n      <td>t</td>\n      <td>t</td>\n      <td>Setagaya Ku</td>\n      <td>t</td>\n      <td>Apartment</td>\n      <td>...</td>\n      <td>10.0</td>\n      <td>10.0</td>\n      <td>10.0</td>\n      <td>t</td>\n      <td>t</td>\n      <td>f</td>\n      <td>moderate</td>\n      <td>f</td>\n      <td>f</td>\n      <td>1.35</td>\n    </tr>\n    <tr>\n      <th>4</th>\n      <td>within a few hours</td>\n      <td>100%</td>\n      <td>80%</td>\n      <td>f</td>\n      <td>2.0</td>\n      <td>t</td>\n      <td>t</td>\n      <td>Nerima Ku</td>\n      <td>f</td>\n      <td>Apartment</td>\n      <td>...</td>\n      <td>10.0</td>\n      <td>9.0</td>\n      <td>10.0</td>\n      <td>t</td>\n      <td>f</td>\n      <td>f</td>\n      <td>strict_14_with_grace_period</td>\n      <td>f</td>\n      <td>f</td>\n      <td>1.11</td>\n    </tr>\n    <tr>\n      <th>...</th>\n      <td>...</td>\n      <td>...</td>\n      <td>...</td>\n      <td>...</td>\n      <td>...</td>\n      <td>...</td>\n      <td>...</td>\n      <td>...</td>\n      <td>...</td>\n      <td>...</td>\n      <td>...</td>\n      <td>...</td>\n      <td>...</td>\n      <td>...</td>\n      <td>...</td>\n      <td>...</td>\n      <td>...</td>\n      <td>...</td>\n      <td>...</td>\n      <td>...</td>\n      <td>...</td>\n    </tr>\n    <tr>\n      <th>14710</th>\n      <td>NaN</td>\n      <td>NaN</td>\n      <td>NaN</td>\n      <td>f</td>\n      <td>0.0</td>\n      <td>t</td>\n      <td>f</td>\n      <td>Taito Ku</td>\n      <td>t</td>\n      <td>Apartment</td>\n      <td>...</td>\n      <td>NaN</td>\n      <td>NaN</td>\n      <td>NaN</td>\n      <td>t</td>\n      <td>t</td>\n      <td>f</td>\n      <td>strict_14_with_grace_period</td>\n      <td>f</td>\n      <td>f</td>\n      <td>NaN</td>\n    </tr>\n    <tr>\n      <th>14711</th>\n      <td>within an hour</td>\n      <td>100%</td>\n      <td>100%</td>\n      <td>f</td>\n      <td>76.0</td>\n      <td>t</td>\n      <td>f</td>\n      <td>Kita Ku</td>\n      <td>t</td>\n      <td>Apartment</td>\n      <td>...</td>\n      <td>NaN</td>\n      <td>NaN</td>\n      <td>NaN</td>\n      <td>t</td>\n      <td>t</td>\n      <td>f</td>\n      <td>flexible</td>\n      <td>f</td>\n      <td>f</td>\n      <td>NaN</td>\n    </tr>\n    <tr>\n      <th>14712</th>\n      <td>within an hour</td>\n      <td>100%</td>\n      <td>100%</td>\n      <td>f</td>\n      <td>3.0</td>\n      <td>t</td>\n      <td>f</td>\n      <td>Shinjuku Ku</td>\n      <td>t</td>\n      <td>Apartment</td>\n      <td>...</td>\n      <td>NaN</td>\n      <td>NaN</td>\n      <td>NaN</td>\n      <td>t</td>\n      <td>t</td>\n      <td>f</td>\n      <td>strict_14_with_grace_period</td>\n      <td>f</td>\n      <td>f</td>\n      <td>NaN</td>\n    </tr>\n    <tr>\n      <th>14713</th>\n      <td>within an hour</td>\n      <td>100%</td>\n      <td>100%</td>\n      <td>f</td>\n      <td>3.0</td>\n      <td>t</td>\n      <td>f</td>\n      <td>Shinjuku Ku</td>\n      <td>t</td>\n      <td>Apartment</td>\n      <td>...</td>\n      <td>NaN</td>\n      <td>NaN</td>\n      <td>NaN</td>\n      <td>t</td>\n      <td>t</td>\n      <td>f</td>\n      <td>strict_14_with_grace_period</td>\n      <td>f</td>\n      <td>f</td>\n      <td>NaN</td>\n    </tr>\n    <tr>\n      <th>14714</th>\n      <td>within an hour</td>\n      <td>100%</td>\n      <td>100%</td>\n      <td>f</td>\n      <td>3.0</td>\n      <td>t</td>\n      <td>f</td>\n      <td>Shinjuku Ku</td>\n      <td>t</td>\n      <td>Apartment</td>\n      <td>...</td>\n      <td>NaN</td>\n      <td>NaN</td>\n      <td>NaN</td>\n      <td>t</td>\n      <td>t</td>\n      <td>f</td>\n      <td>strict_14_with_grace_period</td>\n      <td>f</td>\n      <td>f</td>\n      <td>NaN</td>\n    </tr>\n  </tbody>\n</table>\n<p>14715 rows × 37 columns</p>\n</div>"
     },
     "metadata": {},
     "execution_count": 57
    }
   ],
   "source": [
    "listings_df\n"
   ]
  },
  {
   "cell_type": "markdown",
   "metadata": {},
   "source": [
    "### Q2. データ加工（1/3）：型変換\n",
    "データフレーム``listing_df``に格納されたデータの中には，計算機が処理しにくい形式のデータが混じっている．例えば，属性``price``は1泊あたりの料金（日本円）を意味するが，「ドルマーク（＄）」や「カンマ（,）」が文字列として含まれているため数値として扱えない．``listing_df``にある下記属性について，指定されたデータ形式に変換し，その結果を``listing_df_v2``に格納せよ．\n",
    "\n",
    "* ``price``：float型\n",
    "* ``clearning_fee``：float型\n",
    "* ``security_deposit``：float型\n",
    "* ``host_response_rate``：%記号を取り除いた数字（float型）\n",
    "* ``host_acceptance_rate``：%記号を取り除いた数字（float型）\n",
    "* ``host_is_superhost``：\"t\"を1，\"f\"を0とするint型\n",
    "* ``host_has_profile_pic``：\"t\"を1，\"f\"を0とするint型\n",
    "* ``host_identity_verified``：\"t\"を1，\"f\"を0とするint型\n",
    "* ``is_location_exact``：\"t\"を1，\"f\"を0とするint型\n",
    "* ``requires_license``：\"t\"を1，\"f\"を0とするint型\n",
    "* ``instant_bookable``：\"t\"を1，\"f\"を0とするint型\n",
    "* ``is_business_travel_ready``：\"t\"を1，\"f\"を0とするint型\n",
    "* ``require_guest_profile_picture``：\"t\"を1，\"f\"を0とするint型\n",
    "* ``require_guest_phone_verification``：\"t\"を1，\"f\"を0とするint型"
   ]
  },
  {
   "cell_type": "code",
   "execution_count": 61,
   "metadata": {},
   "outputs": [],
   "source": [
    "listings_df_v2 =  listings_df.copy()\n"
   ]
  },
  {
   "cell_type": "code",
   "execution_count": 63,
   "metadata": {
    "tags": []
   },
   "outputs": [],
   "source": [
    "format_price = lambda x: x.replace('$', '').replace(',', '') if type(x) is str else x\n",
    "format_rate = lambda x: int(x.replace('%', ''))/100 if type(x) is str else x\n",
    "format_truth = lambda x: 1 if x == 't' else (0 if x == 'f' else x)\n",
    "\n",
    "\n",
    "listings_df_v2['price'] = [*map(format_price, listings_df['price'])]\n",
    "listings_df_v2['cleaning_fee'] = [*map(format_price, listings_df['cleaning_fee'])]\n",
    "listings_df_v2['security_deposit'] = [*map(format_price, listings_df['security_deposit'])]\n",
    "\n",
    "listings_df_v2['host_response_rate'] = [*map(format_rate, listings_df['host_response_rate'])]\n",
    "listings_df_v2['host_acceptance_rate'] = [*map(format_rate, listings_df['host_acceptance_rate'])]\n",
    "\n",
    "target_clm = [\n",
    "    'host_is_superhost', \n",
    "    'host_has_profile_pic', \n",
    "    'host_identity_verified', \n",
    "    'is_location_exact', \n",
    "    'requires_license', \n",
    "    'instant_bookable', \n",
    "    'is_business_travel_ready', \n",
    "    'require_guest_profile_picture', \n",
    "    'require_guest_phone_verification'\n",
    "]\n",
    "\n",
    "for c in target_clm:\n",
    "    listings_df_v2[c] = [*map(format_truth, listings_df_v2[c])]\n",
    "\n",
    "listings_df_v2 = listings_df_v2.astype({\n",
    "    'price': float, \n",
    "    'cleaning_fee': float, \n",
    "    'security_deposit': float, \n",
    "    'host_response_rate': float, \n",
    "    'host_acceptance_rate': float,\n",
    "    'host_is_superhost': pd.Int64Dtype(), \n",
    "    'host_has_profile_pic': pd.Int64Dtype(), \n",
    "    'host_identity_verified': pd.Int64Dtype(), \n",
    "    'is_location_exact': pd.Int64Dtype(), \n",
    "    'requires_license': pd.Int64Dtype(), \n",
    "    'instant_bookable': pd.Int64Dtype(), \n",
    "    'is_business_travel_ready': pd.Int64Dtype(), \n",
    "    'require_guest_profile_picture': pd.Int64Dtype(), \n",
    "    'require_guest_phone_verification': pd.Int64Dtype()\n",
    "})\n"
   ]
  },
  {
   "cell_type": "code",
   "execution_count": 67,
   "metadata": {},
   "outputs": [
    {
     "output_type": "execute_result",
     "data": {
      "text/plain": "       host_response_time  host_response_rate  host_acceptance_rate  \\\n0                     NaN                 NaN                   NaN   \n1      within a few hours                 1.0                  0.85   \n2      within a few hours                 1.0                  0.80   \n3            within a day                 1.0                  0.92   \n4      within a few hours                 1.0                  0.80   \n...                   ...                 ...                   ...   \n14710                 NaN                 NaN                   NaN   \n14711      within an hour                 1.0                  1.00   \n14712      within an hour                 1.0                  1.00   \n14713      within an hour                 1.0                  1.00   \n14714      within an hour                 1.0                  1.00   \n\n       host_is_superhost  host_listings_count  host_has_profile_pic  \\\n0                      0                  3.0                     1   \n1                      1                  1.0                     1   \n2                      0                  2.0                     1   \n3                      1                  3.0                     1   \n4                      0                  2.0                     1   \n...                  ...                  ...                   ...   \n14710                  0                  0.0                     1   \n14711                  0                 76.0                     1   \n14712                  0                  3.0                     1   \n14713                  0                  3.0                     1   \n14714                  0                  3.0                     1   \n\n       host_identity_verified neighbourhood_cleansed  is_location_exact  \\\n0                           1             Shibuya Ku                  1   \n1                           1              Sumida Ku                  0   \n2                           1              Nerima Ku                  0   \n3                           1            Setagaya Ku                  1   \n4                           1              Nerima Ku                  0   \n...                       ...                    ...                ...   \n14710                       0               Taito Ku                  1   \n14711                       0                Kita Ku                  1   \n14712                       0            Shinjuku Ku                  1   \n14713                       0            Shinjuku Ku                  1   \n14714                       0            Shinjuku Ku                  1   \n\n      property_type  ... review_scores_communication  review_scores_location  \\\n0         Apartment  ...                        10.0                    10.0   \n1         Apartment  ...                        10.0                     9.0   \n2         Apartment  ...                         9.0                     9.0   \n3         Apartment  ...                        10.0                    10.0   \n4         Apartment  ...                        10.0                     9.0   \n...             ...  ...                         ...                     ...   \n14710     Apartment  ...                         NaN                     NaN   \n14711     Apartment  ...                         NaN                     NaN   \n14712     Apartment  ...                         NaN                     NaN   \n14713     Apartment  ...                         NaN                     NaN   \n14714     Apartment  ...                         NaN                     NaN   \n\n       review_scores_value  requires_license  instant_bookable  \\\n0                      9.0                 1                 0   \n1                     10.0                 1                 0   \n2                      9.0                 1                 0   \n3                     10.0                 1                 1   \n4                     10.0                 1                 0   \n...                    ...               ...               ...   \n14710                  NaN                 1                 1   \n14711                  NaN                 1                 1   \n14712                  NaN                 1                 1   \n14713                  NaN                 1                 1   \n14714                  NaN                 1                 1   \n\n      is_business_travel_ready          cancellation_policy  \\\n0                            0  strict_14_with_grace_period   \n1                            0                     moderate   \n2                            0  strict_14_with_grace_period   \n3                            0                     moderate   \n4                            0  strict_14_with_grace_period   \n...                        ...                          ...   \n14710                        0  strict_14_with_grace_period   \n14711                        0                     flexible   \n14712                        0  strict_14_with_grace_period   \n14713                        0  strict_14_with_grace_period   \n14714                        0  strict_14_with_grace_period   \n\n       require_guest_profile_picture  require_guest_phone_verification  \\\n0                                  0                                 0   \n1                                  0                                 0   \n2                                  0                                 0   \n3                                  0                                 0   \n4                                  0                                 0   \n...                              ...                               ...   \n14710                              0                                 0   \n14711                              0                                 0   \n14712                              0                                 0   \n14713                              0                                 0   \n14714                              0                                 0   \n\n       reviews_per_month  \n0                   0.17  \n1                   1.55  \n2                   1.16  \n3                   1.35  \n4                   1.11  \n...                  ...  \n14710                NaN  \n14711                NaN  \n14712                NaN  \n14713                NaN  \n14714                NaN  \n\n[14715 rows x 37 columns]",
      "text/html": "<div>\n<style scoped>\n    .dataframe tbody tr th:only-of-type {\n        vertical-align: middle;\n    }\n\n    .dataframe tbody tr th {\n        vertical-align: top;\n    }\n\n    .dataframe thead th {\n        text-align: right;\n    }\n</style>\n<table border=\"1\" class=\"dataframe\">\n  <thead>\n    <tr style=\"text-align: right;\">\n      <th></th>\n      <th>host_response_time</th>\n      <th>host_response_rate</th>\n      <th>host_acceptance_rate</th>\n      <th>host_is_superhost</th>\n      <th>host_listings_count</th>\n      <th>host_has_profile_pic</th>\n      <th>host_identity_verified</th>\n      <th>neighbourhood_cleansed</th>\n      <th>is_location_exact</th>\n      <th>property_type</th>\n      <th>...</th>\n      <th>review_scores_communication</th>\n      <th>review_scores_location</th>\n      <th>review_scores_value</th>\n      <th>requires_license</th>\n      <th>instant_bookable</th>\n      <th>is_business_travel_ready</th>\n      <th>cancellation_policy</th>\n      <th>require_guest_profile_picture</th>\n      <th>require_guest_phone_verification</th>\n      <th>reviews_per_month</th>\n    </tr>\n  </thead>\n  <tbody>\n    <tr>\n      <th>0</th>\n      <td>NaN</td>\n      <td>NaN</td>\n      <td>NaN</td>\n      <td>0</td>\n      <td>3.0</td>\n      <td>1</td>\n      <td>1</td>\n      <td>Shibuya Ku</td>\n      <td>1</td>\n      <td>Apartment</td>\n      <td>...</td>\n      <td>10.0</td>\n      <td>10.0</td>\n      <td>9.0</td>\n      <td>1</td>\n      <td>0</td>\n      <td>0</td>\n      <td>strict_14_with_grace_period</td>\n      <td>0</td>\n      <td>0</td>\n      <td>0.17</td>\n    </tr>\n    <tr>\n      <th>1</th>\n      <td>within a few hours</td>\n      <td>1.0</td>\n      <td>0.85</td>\n      <td>1</td>\n      <td>1.0</td>\n      <td>1</td>\n      <td>1</td>\n      <td>Sumida Ku</td>\n      <td>0</td>\n      <td>Apartment</td>\n      <td>...</td>\n      <td>10.0</td>\n      <td>9.0</td>\n      <td>10.0</td>\n      <td>1</td>\n      <td>0</td>\n      <td>0</td>\n      <td>moderate</td>\n      <td>0</td>\n      <td>0</td>\n      <td>1.55</td>\n    </tr>\n    <tr>\n      <th>2</th>\n      <td>within a few hours</td>\n      <td>1.0</td>\n      <td>0.80</td>\n      <td>0</td>\n      <td>2.0</td>\n      <td>1</td>\n      <td>1</td>\n      <td>Nerima Ku</td>\n      <td>0</td>\n      <td>Apartment</td>\n      <td>...</td>\n      <td>9.0</td>\n      <td>9.0</td>\n      <td>9.0</td>\n      <td>1</td>\n      <td>0</td>\n      <td>0</td>\n      <td>strict_14_with_grace_period</td>\n      <td>0</td>\n      <td>0</td>\n      <td>1.16</td>\n    </tr>\n    <tr>\n      <th>3</th>\n      <td>within a day</td>\n      <td>1.0</td>\n      <td>0.92</td>\n      <td>1</td>\n      <td>3.0</td>\n      <td>1</td>\n      <td>1</td>\n      <td>Setagaya Ku</td>\n      <td>1</td>\n      <td>Apartment</td>\n      <td>...</td>\n      <td>10.0</td>\n      <td>10.0</td>\n      <td>10.0</td>\n      <td>1</td>\n      <td>1</td>\n      <td>0</td>\n      <td>moderate</td>\n      <td>0</td>\n      <td>0</td>\n      <td>1.35</td>\n    </tr>\n    <tr>\n      <th>4</th>\n      <td>within a few hours</td>\n      <td>1.0</td>\n      <td>0.80</td>\n      <td>0</td>\n      <td>2.0</td>\n      <td>1</td>\n      <td>1</td>\n      <td>Nerima Ku</td>\n      <td>0</td>\n      <td>Apartment</td>\n      <td>...</td>\n      <td>10.0</td>\n      <td>9.0</td>\n      <td>10.0</td>\n      <td>1</td>\n      <td>0</td>\n      <td>0</td>\n      <td>strict_14_with_grace_period</td>\n      <td>0</td>\n      <td>0</td>\n      <td>1.11</td>\n    </tr>\n    <tr>\n      <th>...</th>\n      <td>...</td>\n      <td>...</td>\n      <td>...</td>\n      <td>...</td>\n      <td>...</td>\n      <td>...</td>\n      <td>...</td>\n      <td>...</td>\n      <td>...</td>\n      <td>...</td>\n      <td>...</td>\n      <td>...</td>\n      <td>...</td>\n      <td>...</td>\n      <td>...</td>\n      <td>...</td>\n      <td>...</td>\n      <td>...</td>\n      <td>...</td>\n      <td>...</td>\n      <td>...</td>\n    </tr>\n    <tr>\n      <th>14710</th>\n      <td>NaN</td>\n      <td>NaN</td>\n      <td>NaN</td>\n      <td>0</td>\n      <td>0.0</td>\n      <td>1</td>\n      <td>0</td>\n      <td>Taito Ku</td>\n      <td>1</td>\n      <td>Apartment</td>\n      <td>...</td>\n      <td>NaN</td>\n      <td>NaN</td>\n      <td>NaN</td>\n      <td>1</td>\n      <td>1</td>\n      <td>0</td>\n      <td>strict_14_with_grace_period</td>\n      <td>0</td>\n      <td>0</td>\n      <td>NaN</td>\n    </tr>\n    <tr>\n      <th>14711</th>\n      <td>within an hour</td>\n      <td>1.0</td>\n      <td>1.00</td>\n      <td>0</td>\n      <td>76.0</td>\n      <td>1</td>\n      <td>0</td>\n      <td>Kita Ku</td>\n      <td>1</td>\n      <td>Apartment</td>\n      <td>...</td>\n      <td>NaN</td>\n      <td>NaN</td>\n      <td>NaN</td>\n      <td>1</td>\n      <td>1</td>\n      <td>0</td>\n      <td>flexible</td>\n      <td>0</td>\n      <td>0</td>\n      <td>NaN</td>\n    </tr>\n    <tr>\n      <th>14712</th>\n      <td>within an hour</td>\n      <td>1.0</td>\n      <td>1.00</td>\n      <td>0</td>\n      <td>3.0</td>\n      <td>1</td>\n      <td>0</td>\n      <td>Shinjuku Ku</td>\n      <td>1</td>\n      <td>Apartment</td>\n      <td>...</td>\n      <td>NaN</td>\n      <td>NaN</td>\n      <td>NaN</td>\n      <td>1</td>\n      <td>1</td>\n      <td>0</td>\n      <td>strict_14_with_grace_period</td>\n      <td>0</td>\n      <td>0</td>\n      <td>NaN</td>\n    </tr>\n    <tr>\n      <th>14713</th>\n      <td>within an hour</td>\n      <td>1.0</td>\n      <td>1.00</td>\n      <td>0</td>\n      <td>3.0</td>\n      <td>1</td>\n      <td>0</td>\n      <td>Shinjuku Ku</td>\n      <td>1</td>\n      <td>Apartment</td>\n      <td>...</td>\n      <td>NaN</td>\n      <td>NaN</td>\n      <td>NaN</td>\n      <td>1</td>\n      <td>1</td>\n      <td>0</td>\n      <td>strict_14_with_grace_period</td>\n      <td>0</td>\n      <td>0</td>\n      <td>NaN</td>\n    </tr>\n    <tr>\n      <th>14714</th>\n      <td>within an hour</td>\n      <td>1.0</td>\n      <td>1.00</td>\n      <td>0</td>\n      <td>3.0</td>\n      <td>1</td>\n      <td>0</td>\n      <td>Shinjuku Ku</td>\n      <td>1</td>\n      <td>Apartment</td>\n      <td>...</td>\n      <td>NaN</td>\n      <td>NaN</td>\n      <td>NaN</td>\n      <td>1</td>\n      <td>1</td>\n      <td>0</td>\n      <td>strict_14_with_grace_period</td>\n      <td>0</td>\n      <td>0</td>\n      <td>NaN</td>\n    </tr>\n  </tbody>\n</table>\n<p>14715 rows × 37 columns</p>\n</div>"
     },
     "metadata": {},
     "execution_count": 67
    }
   ],
   "source": [
    "listings_df_v2\n"
   ]
  },
  {
   "cell_type": "markdown",
   "metadata": {},
   "source": [
    "### Q3. データの確認（1/2）\n",
    "``listing_df_v2``を用いて1泊あたりの宿泊費の基本的な記述統計量（データ数，平均，標準偏差，最小値，最大値，四分位点）を求めよ．また，1泊あたりの宿泊費のヒストグラムを生成し，宿泊費の分布を把握せよ．"
   ]
  },
  {
   "cell_type": "code",
   "execution_count": 65,
   "metadata": {
    "tags": []
   },
   "outputs": [
    {
     "output_type": "stream",
     "name": "stdout",
     "text": "データ数\t 14715.0\n平均\t 26534.51410125722\n標準偏差\t 76362.92877109976\n最小値\t 0.0\n最大値\t 1066046.0\n四分位点\t 6831.0 11791.0 19959.0\n"
    }
   ],
   "source": [
    "statistics = listings_df_v2['price'].describe()\n",
    "print('データ数\\t', statistics['count'])\n",
    "print('平均\\t', statistics['mean'])\n",
    "print('標準偏差\\t', statistics['std'])\n",
    "print('最小値\\t', statistics['min'])\n",
    "print('最大値\\t', statistics['max'])\n",
    "print('四分位点\\t', statistics['25%'], statistics['50%'], statistics['75%'])\n"
   ]
  },
  {
   "cell_type": "code",
   "execution_count": 68,
   "metadata": {
    "tags": []
   },
   "outputs": [
    {
     "output_type": "display_data",
     "data": {
      "text/plain": "<Figure size 432x288 with 1 Axes>",
      "image/svg+xml": "<?xml version=\"1.0\" encoding=\"utf-8\" standalone=\"no\"?>\n<!DOCTYPE svg PUBLIC \"-//W3C//DTD SVG 1.1//EN\"\n  \"http://www.w3.org/Graphics/SVG/1.1/DTD/svg11.dtd\">\n<!-- Created with matplotlib (https://matplotlib.org/) -->\n<svg height=\"261.19625pt\" version=\"1.1\" viewBox=\"0 0 388.0125 261.19625\" width=\"388.0125pt\" xmlns=\"http://www.w3.org/2000/svg\" xmlns:xlink=\"http://www.w3.org/1999/xlink\">\n <metadata>\n  <rdf:RDF xmlns:cc=\"http://creativecommons.org/ns#\" xmlns:dc=\"http://purl.org/dc/elements/1.1/\" xmlns:rdf=\"http://www.w3.org/1999/02/22-rdf-syntax-ns#\">\n   <cc:Work>\n    <dc:type rdf:resource=\"http://purl.org/dc/dcmitype/StillImage\"/>\n    <dc:date>2020-08-18T22:30:40.408783</dc:date>\n    <dc:format>image/svg+xml</dc:format>\n    <dc:creator>\n     <cc:Agent>\n      <dc:title>Matplotlib v3.3.0, https://matplotlib.org/</dc:title>\n     </cc:Agent>\n    </dc:creator>\n   </cc:Work>\n  </rdf:RDF>\n </metadata>\n <defs>\n  <style type=\"text/css\">*{stroke-linecap:butt;stroke-linejoin:round;}</style>\n </defs>\n <g id=\"figure_1\">\n  <g id=\"patch_1\">\n   <path d=\"M 0 261.19625 \nL 388.0125 261.19625 \nL 388.0125 0 \nL 0 0 \nz\n\" style=\"fill:none;\"/>\n  </g>\n  <g id=\"axes_1\">\n   <g id=\"patch_2\">\n    <path d=\"M 46.0125 224.64 \nL 380.8125 224.64 \nL 380.8125 7.2 \nL 46.0125 7.2 \nz\n\" style=\"fill:#ffffff;\"/>\n   </g>\n   <g id=\"patch_3\">\n    <path clip-path=\"url(#pf7bb65aa39)\" d=\"M 61.230682 224.64 \nL 91.667045 224.64 \nL 91.667045 17.554286 \nL 61.230682 17.554286 \nz\n\" style=\"fill:#1f77b4;\"/>\n   </g>\n   <g id=\"patch_4\">\n    <path clip-path=\"url(#pf7bb65aa39)\" d=\"M 91.667045 224.64 \nL 122.103409 224.64 \nL 122.103409 223.263348 \nL 91.667045 223.263348 \nz\n\" style=\"fill:#1f77b4;\"/>\n   </g>\n   <g id=\"patch_5\">\n    <path clip-path=\"url(#pf7bb65aa39)\" d=\"M 122.103409 224.64 \nL 152.539773 224.64 \nL 152.539773 223.47845 \nL 122.103409 223.47845 \nz\n\" style=\"fill:#1f77b4;\"/>\n   </g>\n   <g id=\"patch_6\">\n    <path clip-path=\"url(#pf7bb65aa39)\" d=\"M 152.539773 224.64 \nL 182.976136 224.64 \nL 182.976136 224.59698 \nL 152.539773 224.59698 \nz\n\" style=\"fill:#1f77b4;\"/>\n   </g>\n   <g id=\"patch_7\">\n    <path clip-path=\"url(#pf7bb65aa39)\" d=\"M 182.976136 224.64 \nL 213.4125 224.64 \nL 213.4125 224.553959 \nL 182.976136 224.553959 \nz\n\" style=\"fill:#1f77b4;\"/>\n   </g>\n   <g id=\"patch_8\">\n    <path clip-path=\"url(#pf7bb65aa39)\" d=\"M 213.4125 224.64 \nL 243.848864 224.64 \nL 243.848864 224.64 \nL 213.4125 224.64 \nz\n\" style=\"fill:#1f77b4;\"/>\n   </g>\n   <g id=\"patch_9\">\n    <path clip-path=\"url(#pf7bb65aa39)\" d=\"M 243.848864 224.64 \nL 274.285227 224.64 \nL 274.285227 224.61132 \nL 243.848864 224.61132 \nz\n\" style=\"fill:#1f77b4;\"/>\n   </g>\n   <g id=\"patch_10\">\n    <path clip-path=\"url(#pf7bb65aa39)\" d=\"M 274.285227 224.64 \nL 304.721591 224.64 \nL 304.721591 224.61132 \nL 274.285227 224.61132 \nz\n\" style=\"fill:#1f77b4;\"/>\n   </g>\n   <g id=\"patch_11\">\n    <path clip-path=\"url(#pf7bb65aa39)\" d=\"M 304.721591 224.64 \nL 335.157955 224.64 \nL 335.157955 223.664872 \nL 304.721591 223.664872 \nz\n\" style=\"fill:#1f77b4;\"/>\n   </g>\n   <g id=\"patch_12\">\n    <path clip-path=\"url(#pf7bb65aa39)\" d=\"M 335.157955 224.64 \nL 365.594318 224.64 \nL 365.594318 224.410558 \nL 335.157955 224.410558 \nz\n\" style=\"fill:#1f77b4;\"/>\n   </g>\n   <g id=\"matplotlib.axis_1\">\n    <g id=\"xtick_1\">\n     <g id=\"line2d_1\">\n      <defs>\n       <path d=\"M 0 0 \nL 0 3.5 \n\" id=\"m8f1577c1c1\" style=\"stroke:#000000;stroke-width:0.8;\"/>\n      </defs>\n      <g>\n       <use style=\"stroke:#000000;stroke-width:0.8;\" x=\"61.230682\" xlink:href=\"#m8f1577c1c1\" y=\"224.64\"/>\n      </g>\n     </g>\n     <g id=\"text_1\">\n      <!-- 0.0 -->\n      <g transform=\"translate(53.279119 239.238437)scale(0.1 -0.1)\">\n       <defs>\n        <path d=\"M 31.78125 66.40625 \nQ 24.171875 66.40625 20.328125 58.90625 \nQ 16.5 51.421875 16.5 36.375 \nQ 16.5 21.390625 20.328125 13.890625 \nQ 24.171875 6.390625 31.78125 6.390625 \nQ 39.453125 6.390625 43.28125 13.890625 \nQ 47.125 21.390625 47.125 36.375 \nQ 47.125 51.421875 43.28125 58.90625 \nQ 39.453125 66.40625 31.78125 66.40625 \nz\nM 31.78125 74.21875 \nQ 44.046875 74.21875 50.515625 64.515625 \nQ 56.984375 54.828125 56.984375 36.375 \nQ 56.984375 17.96875 50.515625 8.265625 \nQ 44.046875 -1.421875 31.78125 -1.421875 \nQ 19.53125 -1.421875 13.0625 8.265625 \nQ 6.59375 17.96875 6.59375 36.375 \nQ 6.59375 54.828125 13.0625 64.515625 \nQ 19.53125 74.21875 31.78125 74.21875 \nz\n\" id=\"DejaVuSans-48\"/>\n        <path d=\"M 10.6875 12.40625 \nL 21 12.40625 \nL 21 0 \nL 10.6875 0 \nz\n\" id=\"DejaVuSans-46\"/>\n       </defs>\n       <use xlink:href=\"#DejaVuSans-48\"/>\n       <use x=\"63.623047\" xlink:href=\"#DejaVuSans-46\"/>\n       <use x=\"95.410156\" xlink:href=\"#DejaVuSans-48\"/>\n      </g>\n     </g>\n    </g>\n    <g id=\"xtick_2\">\n     <g id=\"line2d_2\">\n      <g>\n       <use style=\"stroke:#000000;stroke-width:0.8;\" x=\"118.33209\" xlink:href=\"#m8f1577c1c1\" y=\"224.64\"/>\n      </g>\n     </g>\n     <g id=\"text_2\">\n      <!-- 0.2 -->\n      <g transform=\"translate(110.380527 239.238437)scale(0.1 -0.1)\">\n       <defs>\n        <path d=\"M 19.1875 8.296875 \nL 53.609375 8.296875 \nL 53.609375 0 \nL 7.328125 0 \nL 7.328125 8.296875 \nQ 12.9375 14.109375 22.625 23.890625 \nQ 32.328125 33.6875 34.8125 36.53125 \nQ 39.546875 41.84375 41.421875 45.53125 \nQ 43.3125 49.21875 43.3125 52.78125 \nQ 43.3125 58.59375 39.234375 62.25 \nQ 35.15625 65.921875 28.609375 65.921875 \nQ 23.96875 65.921875 18.8125 64.3125 \nQ 13.671875 62.703125 7.8125 59.421875 \nL 7.8125 69.390625 \nQ 13.765625 71.78125 18.9375 73 \nQ 24.125 74.21875 28.421875 74.21875 \nQ 39.75 74.21875 46.484375 68.546875 \nQ 53.21875 62.890625 53.21875 53.421875 \nQ 53.21875 48.921875 51.53125 44.890625 \nQ 49.859375 40.875 45.40625 35.40625 \nQ 44.1875 33.984375 37.640625 27.21875 \nQ 31.109375 20.453125 19.1875 8.296875 \nz\n\" id=\"DejaVuSans-50\"/>\n       </defs>\n       <use xlink:href=\"#DejaVuSans-48\"/>\n       <use x=\"63.623047\" xlink:href=\"#DejaVuSans-46\"/>\n       <use x=\"95.410156\" xlink:href=\"#DejaVuSans-50\"/>\n      </g>\n     </g>\n    </g>\n    <g id=\"xtick_3\">\n     <g id=\"line2d_3\">\n      <g>\n       <use style=\"stroke:#000000;stroke-width:0.8;\" x=\"175.433497\" xlink:href=\"#m8f1577c1c1\" y=\"224.64\"/>\n      </g>\n     </g>\n     <g id=\"text_3\">\n      <!-- 0.4 -->\n      <g transform=\"translate(167.481935 239.238437)scale(0.1 -0.1)\">\n       <defs>\n        <path d=\"M 37.796875 64.3125 \nL 12.890625 25.390625 \nL 37.796875 25.390625 \nz\nM 35.203125 72.90625 \nL 47.609375 72.90625 \nL 47.609375 25.390625 \nL 58.015625 25.390625 \nL 58.015625 17.1875 \nL 47.609375 17.1875 \nL 47.609375 0 \nL 37.796875 0 \nL 37.796875 17.1875 \nL 4.890625 17.1875 \nL 4.890625 26.703125 \nz\n\" id=\"DejaVuSans-52\"/>\n       </defs>\n       <use xlink:href=\"#DejaVuSans-48\"/>\n       <use x=\"63.623047\" xlink:href=\"#DejaVuSans-46\"/>\n       <use x=\"95.410156\" xlink:href=\"#DejaVuSans-52\"/>\n      </g>\n     </g>\n    </g>\n    <g id=\"xtick_4\">\n     <g id=\"line2d_4\">\n      <g>\n       <use style=\"stroke:#000000;stroke-width:0.8;\" x=\"232.534905\" xlink:href=\"#m8f1577c1c1\" y=\"224.64\"/>\n      </g>\n     </g>\n     <g id=\"text_4\">\n      <!-- 0.6 -->\n      <g transform=\"translate(224.583342 239.238437)scale(0.1 -0.1)\">\n       <defs>\n        <path d=\"M 33.015625 40.375 \nQ 26.375 40.375 22.484375 35.828125 \nQ 18.609375 31.296875 18.609375 23.390625 \nQ 18.609375 15.53125 22.484375 10.953125 \nQ 26.375 6.390625 33.015625 6.390625 \nQ 39.65625 6.390625 43.53125 10.953125 \nQ 47.40625 15.53125 47.40625 23.390625 \nQ 47.40625 31.296875 43.53125 35.828125 \nQ 39.65625 40.375 33.015625 40.375 \nz\nM 52.59375 71.296875 \nL 52.59375 62.3125 \nQ 48.875 64.0625 45.09375 64.984375 \nQ 41.3125 65.921875 37.59375 65.921875 \nQ 27.828125 65.921875 22.671875 59.328125 \nQ 17.53125 52.734375 16.796875 39.40625 \nQ 19.671875 43.65625 24.015625 45.921875 \nQ 28.375 48.1875 33.59375 48.1875 \nQ 44.578125 48.1875 50.953125 41.515625 \nQ 57.328125 34.859375 57.328125 23.390625 \nQ 57.328125 12.15625 50.6875 5.359375 \nQ 44.046875 -1.421875 33.015625 -1.421875 \nQ 20.359375 -1.421875 13.671875 8.265625 \nQ 6.984375 17.96875 6.984375 36.375 \nQ 6.984375 53.65625 15.1875 63.9375 \nQ 23.390625 74.21875 37.203125 74.21875 \nQ 40.921875 74.21875 44.703125 73.484375 \nQ 48.484375 72.75 52.59375 71.296875 \nz\n\" id=\"DejaVuSans-54\"/>\n       </defs>\n       <use xlink:href=\"#DejaVuSans-48\"/>\n       <use x=\"63.623047\" xlink:href=\"#DejaVuSans-46\"/>\n       <use x=\"95.410156\" xlink:href=\"#DejaVuSans-54\"/>\n      </g>\n     </g>\n    </g>\n    <g id=\"xtick_5\">\n     <g id=\"line2d_5\">\n      <g>\n       <use style=\"stroke:#000000;stroke-width:0.8;\" x=\"289.636313\" xlink:href=\"#m8f1577c1c1\" y=\"224.64\"/>\n      </g>\n     </g>\n     <g id=\"text_5\">\n      <!-- 0.8 -->\n      <g transform=\"translate(281.68475 239.238437)scale(0.1 -0.1)\">\n       <defs>\n        <path d=\"M 31.78125 34.625 \nQ 24.75 34.625 20.71875 30.859375 \nQ 16.703125 27.09375 16.703125 20.515625 \nQ 16.703125 13.921875 20.71875 10.15625 \nQ 24.75 6.390625 31.78125 6.390625 \nQ 38.8125 6.390625 42.859375 10.171875 \nQ 46.921875 13.96875 46.921875 20.515625 \nQ 46.921875 27.09375 42.890625 30.859375 \nQ 38.875 34.625 31.78125 34.625 \nz\nM 21.921875 38.8125 \nQ 15.578125 40.375 12.03125 44.71875 \nQ 8.5 49.078125 8.5 55.328125 \nQ 8.5 64.0625 14.71875 69.140625 \nQ 20.953125 74.21875 31.78125 74.21875 \nQ 42.671875 74.21875 48.875 69.140625 \nQ 55.078125 64.0625 55.078125 55.328125 \nQ 55.078125 49.078125 51.53125 44.71875 \nQ 48 40.375 41.703125 38.8125 \nQ 48.828125 37.15625 52.796875 32.3125 \nQ 56.78125 27.484375 56.78125 20.515625 \nQ 56.78125 9.90625 50.3125 4.234375 \nQ 43.84375 -1.421875 31.78125 -1.421875 \nQ 19.734375 -1.421875 13.25 4.234375 \nQ 6.78125 9.90625 6.78125 20.515625 \nQ 6.78125 27.484375 10.78125 32.3125 \nQ 14.796875 37.15625 21.921875 38.8125 \nz\nM 18.3125 54.390625 \nQ 18.3125 48.734375 21.84375 45.5625 \nQ 25.390625 42.390625 31.78125 42.390625 \nQ 38.140625 42.390625 41.71875 45.5625 \nQ 45.3125 48.734375 45.3125 54.390625 \nQ 45.3125 60.0625 41.71875 63.234375 \nQ 38.140625 66.40625 31.78125 66.40625 \nQ 25.390625 66.40625 21.84375 63.234375 \nQ 18.3125 60.0625 18.3125 54.390625 \nz\n\" id=\"DejaVuSans-56\"/>\n       </defs>\n       <use xlink:href=\"#DejaVuSans-48\"/>\n       <use x=\"63.623047\" xlink:href=\"#DejaVuSans-46\"/>\n       <use x=\"95.410156\" xlink:href=\"#DejaVuSans-56\"/>\n      </g>\n     </g>\n    </g>\n    <g id=\"xtick_6\">\n     <g id=\"line2d_6\">\n      <g>\n       <use style=\"stroke:#000000;stroke-width:0.8;\" x=\"346.73772\" xlink:href=\"#m8f1577c1c1\" y=\"224.64\"/>\n      </g>\n     </g>\n     <g id=\"text_6\">\n      <!-- 1.0 -->\n      <g transform=\"translate(338.786158 239.238437)scale(0.1 -0.1)\">\n       <defs>\n        <path d=\"M 12.40625 8.296875 \nL 28.515625 8.296875 \nL 28.515625 63.921875 \nL 10.984375 60.40625 \nL 10.984375 69.390625 \nL 28.421875 72.90625 \nL 38.28125 72.90625 \nL 38.28125 8.296875 \nL 54.390625 8.296875 \nL 54.390625 0 \nL 12.40625 0 \nz\n\" id=\"DejaVuSans-49\"/>\n       </defs>\n       <use xlink:href=\"#DejaVuSans-49\"/>\n       <use x=\"63.623047\" xlink:href=\"#DejaVuSans-46\"/>\n       <use x=\"95.410156\" xlink:href=\"#DejaVuSans-48\"/>\n      </g>\n     </g>\n    </g>\n    <g id=\"text_7\">\n     <!-- 1e6 -->\n     <g transform=\"translate(361.934375 251.916562)scale(0.1 -0.1)\">\n      <defs>\n       <path d=\"M 56.203125 29.59375 \nL 56.203125 25.203125 \nL 14.890625 25.203125 \nQ 15.484375 15.921875 20.484375 11.0625 \nQ 25.484375 6.203125 34.421875 6.203125 \nQ 39.59375 6.203125 44.453125 7.46875 \nQ 49.3125 8.734375 54.109375 11.28125 \nL 54.109375 2.78125 \nQ 49.265625 0.734375 44.1875 -0.34375 \nQ 39.109375 -1.421875 33.890625 -1.421875 \nQ 20.796875 -1.421875 13.15625 6.1875 \nQ 5.515625 13.8125 5.515625 26.8125 \nQ 5.515625 40.234375 12.765625 48.109375 \nQ 20.015625 56 32.328125 56 \nQ 43.359375 56 49.78125 48.890625 \nQ 56.203125 41.796875 56.203125 29.59375 \nz\nM 47.21875 32.234375 \nQ 47.125 39.59375 43.09375 43.984375 \nQ 39.0625 48.390625 32.421875 48.390625 \nQ 24.90625 48.390625 20.390625 44.140625 \nQ 15.875 39.890625 15.1875 32.171875 \nz\n\" id=\"DejaVuSans-101\"/>\n      </defs>\n      <use xlink:href=\"#DejaVuSans-49\"/>\n      <use x=\"63.623047\" xlink:href=\"#DejaVuSans-101\"/>\n      <use x=\"125.146484\" xlink:href=\"#DejaVuSans-54\"/>\n     </g>\n    </g>\n   </g>\n   <g id=\"matplotlib.axis_2\">\n    <g id=\"ytick_1\">\n     <g id=\"line2d_7\">\n      <defs>\n       <path d=\"M 0 0 \nL -3.5 0 \n\" id=\"mfe1b75c4f7\" style=\"stroke:#000000;stroke-width:0.8;\"/>\n      </defs>\n      <g>\n       <use style=\"stroke:#000000;stroke-width:0.8;\" x=\"46.0125\" xlink:href=\"#mfe1b75c4f7\" y=\"224.64\"/>\n      </g>\n     </g>\n     <g id=\"text_8\">\n      <!-- 0 -->\n      <g transform=\"translate(32.65 228.439219)scale(0.1 -0.1)\">\n       <use xlink:href=\"#DejaVuSans-48\"/>\n      </g>\n     </g>\n    </g>\n    <g id=\"ytick_2\">\n     <g id=\"line2d_8\">\n      <g>\n       <use style=\"stroke:#000000;stroke-width:0.8;\" x=\"46.0125\" xlink:href=\"#mfe1b75c4f7\" y=\"195.959754\"/>\n      </g>\n     </g>\n     <g id=\"text_9\">\n      <!-- 2000 -->\n      <g transform=\"translate(13.5625 199.758973)scale(0.1 -0.1)\">\n       <use xlink:href=\"#DejaVuSans-50\"/>\n       <use x=\"63.623047\" xlink:href=\"#DejaVuSans-48\"/>\n       <use x=\"127.246094\" xlink:href=\"#DejaVuSans-48\"/>\n       <use x=\"190.869141\" xlink:href=\"#DejaVuSans-48\"/>\n      </g>\n     </g>\n    </g>\n    <g id=\"ytick_3\">\n     <g id=\"line2d_9\">\n      <g>\n       <use style=\"stroke:#000000;stroke-width:0.8;\" x=\"46.0125\" xlink:href=\"#mfe1b75c4f7\" y=\"167.279509\"/>\n      </g>\n     </g>\n     <g id=\"text_10\">\n      <!-- 4000 -->\n      <g transform=\"translate(13.5625 171.078727)scale(0.1 -0.1)\">\n       <use xlink:href=\"#DejaVuSans-52\"/>\n       <use x=\"63.623047\" xlink:href=\"#DejaVuSans-48\"/>\n       <use x=\"127.246094\" xlink:href=\"#DejaVuSans-48\"/>\n       <use x=\"190.869141\" xlink:href=\"#DejaVuSans-48\"/>\n      </g>\n     </g>\n    </g>\n    <g id=\"ytick_4\">\n     <g id=\"line2d_10\">\n      <g>\n       <use style=\"stroke:#000000;stroke-width:0.8;\" x=\"46.0125\" xlink:href=\"#mfe1b75c4f7\" y=\"138.599263\"/>\n      </g>\n     </g>\n     <g id=\"text_11\">\n      <!-- 6000 -->\n      <g transform=\"translate(13.5625 142.398482)scale(0.1 -0.1)\">\n       <use xlink:href=\"#DejaVuSans-54\"/>\n       <use x=\"63.623047\" xlink:href=\"#DejaVuSans-48\"/>\n       <use x=\"127.246094\" xlink:href=\"#DejaVuSans-48\"/>\n       <use x=\"190.869141\" xlink:href=\"#DejaVuSans-48\"/>\n      </g>\n     </g>\n    </g>\n    <g id=\"ytick_5\">\n     <g id=\"line2d_11\">\n      <g>\n       <use style=\"stroke:#000000;stroke-width:0.8;\" x=\"46.0125\" xlink:href=\"#mfe1b75c4f7\" y=\"109.919017\"/>\n      </g>\n     </g>\n     <g id=\"text_12\">\n      <!-- 8000 -->\n      <g transform=\"translate(13.5625 113.718236)scale(0.1 -0.1)\">\n       <use xlink:href=\"#DejaVuSans-56\"/>\n       <use x=\"63.623047\" xlink:href=\"#DejaVuSans-48\"/>\n       <use x=\"127.246094\" xlink:href=\"#DejaVuSans-48\"/>\n       <use x=\"190.869141\" xlink:href=\"#DejaVuSans-48\"/>\n      </g>\n     </g>\n    </g>\n    <g id=\"ytick_6\">\n     <g id=\"line2d_12\">\n      <g>\n       <use style=\"stroke:#000000;stroke-width:0.8;\" x=\"46.0125\" xlink:href=\"#mfe1b75c4f7\" y=\"81.238771\"/>\n      </g>\n     </g>\n     <g id=\"text_13\">\n      <!-- 10000 -->\n      <g transform=\"translate(7.2 85.03799)scale(0.1 -0.1)\">\n       <use xlink:href=\"#DejaVuSans-49\"/>\n       <use x=\"63.623047\" xlink:href=\"#DejaVuSans-48\"/>\n       <use x=\"127.246094\" xlink:href=\"#DejaVuSans-48\"/>\n       <use x=\"190.869141\" xlink:href=\"#DejaVuSans-48\"/>\n       <use x=\"254.492188\" xlink:href=\"#DejaVuSans-48\"/>\n      </g>\n     </g>\n    </g>\n    <g id=\"ytick_7\">\n     <g id=\"line2d_13\">\n      <g>\n       <use style=\"stroke:#000000;stroke-width:0.8;\" x=\"46.0125\" xlink:href=\"#mfe1b75c4f7\" y=\"52.558526\"/>\n      </g>\n     </g>\n     <g id=\"text_14\">\n      <!-- 12000 -->\n      <g transform=\"translate(7.2 56.357744)scale(0.1 -0.1)\">\n       <use xlink:href=\"#DejaVuSans-49\"/>\n       <use x=\"63.623047\" xlink:href=\"#DejaVuSans-50\"/>\n       <use x=\"127.246094\" xlink:href=\"#DejaVuSans-48\"/>\n       <use x=\"190.869141\" xlink:href=\"#DejaVuSans-48\"/>\n       <use x=\"254.492188\" xlink:href=\"#DejaVuSans-48\"/>\n      </g>\n     </g>\n    </g>\n    <g id=\"ytick_8\">\n     <g id=\"line2d_14\">\n      <g>\n       <use style=\"stroke:#000000;stroke-width:0.8;\" x=\"46.0125\" xlink:href=\"#mfe1b75c4f7\" y=\"23.87828\"/>\n      </g>\n     </g>\n     <g id=\"text_15\">\n      <!-- 14000 -->\n      <g transform=\"translate(7.2 27.677499)scale(0.1 -0.1)\">\n       <use xlink:href=\"#DejaVuSans-49\"/>\n       <use x=\"63.623047\" xlink:href=\"#DejaVuSans-52\"/>\n       <use x=\"127.246094\" xlink:href=\"#DejaVuSans-48\"/>\n       <use x=\"190.869141\" xlink:href=\"#DejaVuSans-48\"/>\n       <use x=\"254.492188\" xlink:href=\"#DejaVuSans-48\"/>\n      </g>\n     </g>\n    </g>\n   </g>\n   <g id=\"patch_13\">\n    <path d=\"M 46.0125 224.64 \nL 46.0125 7.2 \n\" style=\"fill:none;stroke:#000000;stroke-linecap:square;stroke-linejoin:miter;stroke-width:0.8;\"/>\n   </g>\n   <g id=\"patch_14\">\n    <path d=\"M 380.8125 224.64 \nL 380.8125 7.2 \n\" style=\"fill:none;stroke:#000000;stroke-linecap:square;stroke-linejoin:miter;stroke-width:0.8;\"/>\n   </g>\n   <g id=\"patch_15\">\n    <path d=\"M 46.0125 224.64 \nL 380.8125 224.64 \n\" style=\"fill:none;stroke:#000000;stroke-linecap:square;stroke-linejoin:miter;stroke-width:0.8;\"/>\n   </g>\n   <g id=\"patch_16\">\n    <path d=\"M 46.0125 7.2 \nL 380.8125 7.2 \n\" style=\"fill:none;stroke:#000000;stroke-linecap:square;stroke-linejoin:miter;stroke-width:0.8;\"/>\n   </g>\n  </g>\n </g>\n <defs>\n  <clipPath id=\"pf7bb65aa39\">\n   <rect height=\"217.44\" width=\"334.8\" x=\"46.0125\" y=\"7.2\"/>\n  </clipPath>\n </defs>\n</svg>\n",
      "image/png": "[encoded data removed]"
     },
     "metadata": {
      "needs_background": "light"
     }
    }
   ],
   "source": [
    "import matplotlib.pyplot as plot\n",
    "\n",
    "fig = plot.figure()\n",
    "ax = fig.add_subplot(111)\n",
    "ax.hist(listings_df_v2['price'])\n",
    "fig.show()"
   ]
  },
  {
   "cell_type": "markdown",
   "metadata": {},
   "source": [
    "### Q4. データの確認（2/2）\n",
    "``listing_df_v2``に含まれる欠損値（空の値：NaN）の数を，各属性ごとに求めよ．"
   ]
  },
  {
   "cell_type": "code",
   "execution_count": 69,
   "metadata": {},
   "outputs": [
    {
     "output_type": "execute_result",
     "data": {
      "text/plain": "host_response_time                  2401\nhost_response_rate                  2401\nhost_acceptance_rate                 504\nhost_is_superhost                     25\nhost_listings_count                   25\nhost_has_profile_pic                  25\nhost_identity_verified                25\nneighbourhood_cleansed                 0\nis_location_exact                      0\nproperty_type                          0\nroom_type                              0\naccommodates                           0\nbathrooms                              4\nbedrooms                              23\nbeds                                  42\nbed_type                               0\namenities                              0\nprice                                  0\nsecurity_deposit                    1241\ncleaning_fee                         695\nminimum_nights                         0\nmaximum_nights                         0\nnumber_of_reviews                      0\nreview_scores_rating                2721\nreview_scores_accuracy              2721\nreview_scores_cleanliness           2721\nreview_scores_checkin               2721\nreview_scores_communication         2721\nreview_scores_location              2721\nreview_scores_value                 2721\nrequires_license                       0\ninstant_bookable                       0\nis_business_travel_ready               0\ncancellation_policy                    0\nrequire_guest_profile_picture          0\nrequire_guest_phone_verification       0\nreviews_per_month                   2697\ndtype: int64"
     },
     "metadata": {},
     "execution_count": 69
    }
   ],
   "source": [
    "listings_df_v2.isnull().sum()"
   ]
  },
  {
   "cell_type": "markdown",
   "metadata": {},
   "source": [
    "### Q5. データ加工（2/3）：カテゴリ変数のダミー変数変換\n",
    "回帰分析等の機械学習を用いる際，天気（例：晴れ，曇り，雨，雪）などのカテゴリ変数（質的データ変数）を特徴量として用いたい場合，カテゴリ変数を**ダミー変数**に変換することで対応する．例えば，下記のようなデータフレームがあるとする．\n",
    "\n",
    "|ID|日付|天気|売上|\n",
    "|---:|---:|---:|---:|\n",
    "|1|xxx|晴れ|3500|\n",
    "|2|xxx|曇り|1500|\n",
    "|3|xxx|雨|800|\n",
    "|4|xxx|晴れ|2200|\n",
    "\n",
    "このデータフレームの``天気``変数をダミー変数化したデータフレームは下記の通りである．\n",
    "\n",
    "|ID|日付|天気_晴れ|天気_曇り|天気_雨|売上|\n",
    "|---:|---:|---:|---:|---:|---:|\n",
    "|1|xxx|1|0|0|3500|\n",
    "|2|xxx|0|1|0|1500|\n",
    "|3|xxx|0|0|1|800|\n",
    "|4|xxx|1|0|0|2200|\n",
    "\n",
    "データフレーム``listing_df_v2``中の下記属性について，ダミー変数化を行い，その結果を``listing_df_v3``とせよ．"
   ]
  },
  {
   "cell_type": "code",
   "execution_count": 70,
   "metadata": {},
   "outputs": [
    {
     "output_type": "execute_result",
     "data": {
      "text/plain": "       host_response_rate  host_acceptance_rate  host_is_superhost  \\\n0                     NaN                   NaN                  0   \n1                     1.0                  0.85                  1   \n2                     1.0                  0.80                  0   \n3                     1.0                  0.92                  1   \n4                     1.0                  0.80                  0   \n...                   ...                   ...                ...   \n14710                 NaN                   NaN                  0   \n14711                 1.0                  1.00                  0   \n14712                 1.0                  1.00                  0   \n14713                 1.0                  1.00                  0   \n14714                 1.0                  1.00                  0   \n\n       host_listings_count  host_has_profile_pic  host_identity_verified  \\\n0                      3.0                     1                       1   \n1                      1.0                     1                       1   \n2                      2.0                     1                       1   \n3                      3.0                     1                       1   \n4                      2.0                     1                       1   \n...                    ...                   ...                     ...   \n14710                  0.0                     1                       0   \n14711                 76.0                     1                       0   \n14712                  3.0                     1                       0   \n14713                  3.0                     1                       0   \n14714                  3.0                     1                       0   \n\n       is_location_exact  accommodates  bathrooms  bedrooms  ...  \\\n0                      1             1        1.0       1.0  ...   \n1                      0             2        1.0       1.0  ...   \n2                      0             2        1.0       1.0  ...   \n3                      1             2        1.0       0.0  ...   \n4                      0             2        1.0       1.0  ...   \n...                  ...           ...        ...       ...  ...   \n14710                  1             8        1.0       3.0  ...   \n14711                  1             2        1.0       1.0  ...   \n14712                  1             3        1.0       1.0  ...   \n14713                  1             3        1.0       1.0  ...   \n14714                  1             3        1.0       1.0  ...   \n\n       bed_type_Couch bed_type_Futon  bed_type_Pull-out Sofa  \\\n0                   0              0                       0   \n1                   0              1                       0   \n2                   0              0                       0   \n3                   0              0                       0   \n4                   0              0                       0   \n...               ...            ...                     ...   \n14710               0              0                       0   \n14711               0              0                       0   \n14712               0              0                       0   \n14713               0              0                       0   \n14714               0              0                       0   \n\n       bed_type_Real Bed  cancellation_policy_flexible  \\\n0                      1                             0   \n1                      0                             0   \n2                      1                             0   \n3                      1                             0   \n4                      1                             0   \n...                  ...                           ...   \n14710                  1                             0   \n14711                  1                             1   \n14712                  1                             0   \n14713                  1                             0   \n14714                  1                             0   \n\n       cancellation_policy_moderate  cancellation_policy_strict  \\\n0                                 0                           0   \n1                                 1                           0   \n2                                 0                           0   \n3                                 1                           0   \n4                                 0                           0   \n...                             ...                         ...   \n14710                             0                           0   \n14711                             0                           0   \n14712                             0                           0   \n14713                             0                           0   \n14714                             0                           0   \n\n       cancellation_policy_strict_14_with_grace_period  \\\n0                                                    1   \n1                                                    0   \n2                                                    1   \n3                                                    0   \n4                                                    1   \n...                                                ...   \n14710                                                1   \n14711                                                0   \n14712                                                1   \n14713                                                1   \n14714                                                1   \n\n       cancellation_policy_super_strict_30  \\\n0                                        0   \n1                                        0   \n2                                        0   \n3                                        0   \n4                                        0   \n...                                    ...   \n14710                                    0   \n14711                                    0   \n14712                                    0   \n14713                                    0   \n14714                                    0   \n\n       cancellation_policy_super_strict_60  \n0                                        0  \n1                                        0  \n2                                        0  \n3                                        0  \n4                                        0  \n...                                    ...  \n14710                                    0  \n14711                                    0  \n14712                                    0  \n14713                                    0  \n14714                                    0  \n\n[14715 rows x 134 columns]",
      "text/html": "<div>\n<style scoped>\n    .dataframe tbody tr th:only-of-type {\n        vertical-align: middle;\n    }\n\n    .dataframe tbody tr th {\n        vertical-align: top;\n    }\n\n    .dataframe thead th {\n        text-align: right;\n    }\n</style>\n<table border=\"1\" class=\"dataframe\">\n  <thead>\n    <tr style=\"text-align: right;\">\n      <th></th>\n      <th>host_response_rate</th>\n      <th>host_acceptance_rate</th>\n      <th>host_is_superhost</th>\n      <th>host_listings_count</th>\n      <th>host_has_profile_pic</th>\n      <th>host_identity_verified</th>\n      <th>is_location_exact</th>\n      <th>accommodates</th>\n      <th>bathrooms</th>\n      <th>bedrooms</th>\n      <th>...</th>\n      <th>bed_type_Couch</th>\n      <th>bed_type_Futon</th>\n      <th>bed_type_Pull-out Sofa</th>\n      <th>bed_type_Real Bed</th>\n      <th>cancellation_policy_flexible</th>\n      <th>cancellation_policy_moderate</th>\n      <th>cancellation_policy_strict</th>\n      <th>cancellation_policy_strict_14_with_grace_period</th>\n      <th>cancellation_policy_super_strict_30</th>\n      <th>cancellation_policy_super_strict_60</th>\n    </tr>\n  </thead>\n  <tbody>\n    <tr>\n      <th>0</th>\n      <td>NaN</td>\n      <td>NaN</td>\n      <td>0</td>\n      <td>3.0</td>\n      <td>1</td>\n      <td>1</td>\n      <td>1</td>\n      <td>1</td>\n      <td>1.0</td>\n      <td>1.0</td>\n      <td>...</td>\n      <td>0</td>\n      <td>0</td>\n      <td>0</td>\n      <td>1</td>\n      <td>0</td>\n      <td>0</td>\n      <td>0</td>\n      <td>1</td>\n      <td>0</td>\n      <td>0</td>\n    </tr>\n    <tr>\n      <th>1</th>\n      <td>1.0</td>\n      <td>0.85</td>\n      <td>1</td>\n      <td>1.0</td>\n      <td>1</td>\n      <td>1</td>\n      <td>0</td>\n      <td>2</td>\n      <td>1.0</td>\n      <td>1.0</td>\n      <td>...</td>\n      <td>0</td>\n      <td>1</td>\n      <td>0</td>\n      <td>0</td>\n      <td>0</td>\n      <td>1</td>\n      <td>0</td>\n      <td>0</td>\n      <td>0</td>\n      <td>0</td>\n    </tr>\n    <tr>\n      <th>2</th>\n      <td>1.0</td>\n      <td>0.80</td>\n      <td>0</td>\n      <td>2.0</td>\n      <td>1</td>\n      <td>1</td>\n      <td>0</td>\n      <td>2</td>\n      <td>1.0</td>\n      <td>1.0</td>\n      <td>...</td>\n      <td>0</td>\n      <td>0</td>\n      <td>0</td>\n      <td>1</td>\n      <td>0</td>\n      <td>0</td>\n      <td>0</td>\n      <td>1</td>\n      <td>0</td>\n      <td>0</td>\n    </tr>\n    <tr>\n      <th>3</th>\n      <td>1.0</td>\n      <td>0.92</td>\n      <td>1</td>\n      <td>3.0</td>\n      <td>1</td>\n      <td>1</td>\n      <td>1</td>\n      <td>2</td>\n      <td>1.0</td>\n      <td>0.0</td>\n      <td>...</td>\n      <td>0</td>\n      <td>0</td>\n      <td>0</td>\n      <td>1</td>\n      <td>0</td>\n      <td>1</td>\n      <td>0</td>\n      <td>0</td>\n      <td>0</td>\n      <td>0</td>\n    </tr>\n    <tr>\n      <th>4</th>\n      <td>1.0</td>\n      <td>0.80</td>\n      <td>0</td>\n      <td>2.0</td>\n      <td>1</td>\n      <td>1</td>\n      <td>0</td>\n      <td>2</td>\n      <td>1.0</td>\n      <td>1.0</td>\n      <td>...</td>\n      <td>0</td>\n      <td>0</td>\n      <td>0</td>\n      <td>1</td>\n      <td>0</td>\n      <td>0</td>\n      <td>0</td>\n      <td>1</td>\n      <td>0</td>\n      <td>0</td>\n    </tr>\n    <tr>\n      <th>...</th>\n      <td>...</td>\n      <td>...</td>\n      <td>...</td>\n      <td>...</td>\n      <td>...</td>\n      <td>...</td>\n      <td>...</td>\n      <td>...</td>\n      <td>...</td>\n      <td>...</td>\n      <td>...</td>\n      <td>...</td>\n      <td>...</td>\n      <td>...</td>\n      <td>...</td>\n      <td>...</td>\n      <td>...</td>\n      <td>...</td>\n      <td>...</td>\n      <td>...</td>\n      <td>...</td>\n    </tr>\n    <tr>\n      <th>14710</th>\n      <td>NaN</td>\n      <td>NaN</td>\n      <td>0</td>\n      <td>0.0</td>\n      <td>1</td>\n      <td>0</td>\n      <td>1</td>\n      <td>8</td>\n      <td>1.0</td>\n      <td>3.0</td>\n      <td>...</td>\n      <td>0</td>\n      <td>0</td>\n      <td>0</td>\n      <td>1</td>\n      <td>0</td>\n      <td>0</td>\n      <td>0</td>\n      <td>1</td>\n      <td>0</td>\n      <td>0</td>\n    </tr>\n    <tr>\n      <th>14711</th>\n      <td>1.0</td>\n      <td>1.00</td>\n      <td>0</td>\n      <td>76.0</td>\n      <td>1</td>\n      <td>0</td>\n      <td>1</td>\n      <td>2</td>\n      <td>1.0</td>\n      <td>1.0</td>\n      <td>...</td>\n      <td>0</td>\n      <td>0</td>\n      <td>0</td>\n      <td>1</td>\n      <td>1</td>\n      <td>0</td>\n      <td>0</td>\n      <td>0</td>\n      <td>0</td>\n      <td>0</td>\n    </tr>\n    <tr>\n      <th>14712</th>\n      <td>1.0</td>\n      <td>1.00</td>\n      <td>0</td>\n      <td>3.0</td>\n      <td>1</td>\n      <td>0</td>\n      <td>1</td>\n      <td>3</td>\n      <td>1.0</td>\n      <td>1.0</td>\n      <td>...</td>\n      <td>0</td>\n      <td>0</td>\n      <td>0</td>\n      <td>1</td>\n      <td>0</td>\n      <td>0</td>\n      <td>0</td>\n      <td>1</td>\n      <td>0</td>\n      <td>0</td>\n    </tr>\n    <tr>\n      <th>14713</th>\n      <td>1.0</td>\n      <td>1.00</td>\n      <td>0</td>\n      <td>3.0</td>\n      <td>1</td>\n      <td>0</td>\n      <td>1</td>\n      <td>3</td>\n      <td>1.0</td>\n      <td>1.0</td>\n      <td>...</td>\n      <td>0</td>\n      <td>0</td>\n      <td>0</td>\n      <td>1</td>\n      <td>0</td>\n      <td>0</td>\n      <td>0</td>\n      <td>1</td>\n      <td>0</td>\n      <td>0</td>\n    </tr>\n    <tr>\n      <th>14714</th>\n      <td>1.0</td>\n      <td>1.00</td>\n      <td>0</td>\n      <td>3.0</td>\n      <td>1</td>\n      <td>0</td>\n      <td>1</td>\n      <td>3</td>\n      <td>1.0</td>\n      <td>1.0</td>\n      <td>...</td>\n      <td>0</td>\n      <td>0</td>\n      <td>0</td>\n      <td>1</td>\n      <td>0</td>\n      <td>0</td>\n      <td>0</td>\n      <td>1</td>\n      <td>0</td>\n      <td>0</td>\n    </tr>\n  </tbody>\n</table>\n<p>14715 rows × 134 columns</p>\n</div>"
     },
     "metadata": {},
     "execution_count": 70
    }
   ],
   "source": [
    "dummy_targets = [\"host_response_time\", \"neighbourhood_cleansed\",\n",
    "                 \"property_type\", \"room_type\", \"bed_type\", \"cancellation_policy\"]\n",
    "\n",
    "listings_df_v3 = pandas.get_dummies(listings_df_v2, columns=dummy_targets)\n",
    "listings_df_v3"
   ]
  },
  {
   "cell_type": "markdown",
   "metadata": {},
   "source": [
    "### Q6. データ加工（3/3）：カテゴリ変数のダミー変数変換2\n",
    "下記のように，データフレーム``listing_df_v3``の``amenities``属性には，1つの属性にカンマ区切りで複数の要素が格納されている．\n",
    "\n",
    "| price | ... | amenities | ... |\n",
    "|---:|---:|:---|---:|\n",
    "|10000| ... | toilet, WiFi, BBQ grill| ... |\n",
    "|15000| ... | toilet, WiFi, Air purifier| ... |\n",
    "\n",
    "``amenities``属性に含まれる各要素をダミー変数化し，``listing_df_v3``を以下のような形式に変換せよ．その結果をデータフレーム``listing_df_v4``に格納せよ．\n",
    "\n",
    "\n",
    "| price | ... | toilet | WiFi | BBQ grill | Air purifier | ... |\n",
    "|---:|---:|---:|---:|---:|---:|---:|\n",
    "|10000| ... | 1 | 1 | 1 | 0 | ... |\n",
    "|15000| ... | 1 | 1 | 0 | 1 | ... |"
   ]
  },
  {
   "cell_type": "code",
   "execution_count": 14,
   "metadata": {},
   "outputs": [],
   "source": [
    "\"\"\" MEMO \"\"\"\n",
    "import numpy as np\n",
    "import pandas as pd\n",
    "import re\n",
    "from functools import reduce\n",
    "\n",
    "def multiple_col_one_hot(df):\n",
    "    col_names = range(len(df))\n",
    "    base_df = pd.get_dummies(df)\n",
    "    print(base_df)\n",
    "    dfs = []\n",
    "\n",
    "    \"\"\"\n",
    "    temp_df = base_df.iloc[:, base_df.columns.str.match(str(col_name) + '_.+')]\n",
    "    temp_df.columns = [re.search('^[^_]+_(.+)', x).group(1) for x in temp_df.columns]\n",
    "    dfs.append(temp_df.replace(0, np.nan))\n",
    "\n",
    "    print(dfs)\n",
    "    result_df = reduce(lambda x, y: x.combine_first(y), dfs)\n",
    "    return result_df.fillna(0).astype(int)\n",
    "    \"\"\""
   ]
  },
  {
   "cell_type": "code",
   "execution_count": 15,
   "metadata": {
    "tags": []
   },
   "outputs": [
    {
     "output_type": "error",
     "ename": "NameError",
     "evalue": "name 'listings_df_v3' is not defined",
     "traceback": [
      "\u001b[0;31m---------------------------------------------------------------------------\u001b[0m",
      "\u001b[0;31mNameError\u001b[0m                                 Traceback (most recent call last)",
      "\u001b[0;32m<ipython-input-15-cae96fdeb05a>\u001b[0m in \u001b[0;36m<module>\u001b[0;34m\u001b[0m\n\u001b[1;32m      1\u001b[0m \u001b[0mamenities\u001b[0m \u001b[0;34m=\u001b[0m \u001b[0mset\u001b[0m\u001b[0;34m(\u001b[0m\u001b[0;34m)\u001b[0m\u001b[0;34m\u001b[0m\u001b[0;34m\u001b[0m\u001b[0m\n\u001b[1;32m      2\u001b[0m \u001b[0;34m\u001b[0m\u001b[0m\n\u001b[0;32m----> 3\u001b[0;31m \u001b[0;32mfor\u001b[0m \u001b[0ma\u001b[0m \u001b[0;32min\u001b[0m \u001b[0mlistings_df_v3\u001b[0m\u001b[0;34m[\u001b[0m\u001b[0;34m'amenities'\u001b[0m\u001b[0;34m]\u001b[0m\u001b[0;34m:\u001b[0m\u001b[0;34m\u001b[0m\u001b[0;34m\u001b[0m\u001b[0m\n\u001b[0m\u001b[1;32m      4\u001b[0m     \u001b[0mamenities\u001b[0m \u001b[0;34m=\u001b[0m \u001b[0mamenities\u001b[0m\u001b[0;34m.\u001b[0m\u001b[0munion\u001b[0m\u001b[0;34m(\u001b[0m\u001b[0mset\u001b[0m\u001b[0;34m(\u001b[0m\u001b[0ma\u001b[0m\u001b[0;34m.\u001b[0m\u001b[0mstrip\u001b[0m\u001b[0;34m(\u001b[0m\u001b[0;34m'\\{\\}'\u001b[0m\u001b[0;34m)\u001b[0m\u001b[0;34m.\u001b[0m\u001b[0msplit\u001b[0m\u001b[0;34m(\u001b[0m\u001b[0;34m','\u001b[0m\u001b[0;34m)\u001b[0m\u001b[0;34m)\u001b[0m\u001b[0;34m)\u001b[0m\u001b[0;34m\u001b[0m\u001b[0;34m\u001b[0m\u001b[0m\n\u001b[1;32m      5\u001b[0m \u001b[0;34m\u001b[0m\u001b[0m\n",
      "\u001b[0;31mNameError\u001b[0m: name 'listings_df_v3' is not defined"
     ]
    }
   ],
   "source": [
    "amenities = set()\n",
    "\n",
    "for a in listings_df_v3['amenities']:\n",
    "    amenities = amenities.union(set(a.strip('\\{\\}').split(',')))\n",
    "\n",
    "listings_df_v4 = pandas.DataFrame(listings_df_v3)\n",
    "for a in amenities:\n",
    "    listings_df_v4[a] = 0\n",
    "\n",
    "for idx, ame in enumerate(listings_df_v3['amenities']):\n",
    "    ame = ame.strip('\\{\\}').split(',')\n",
    "    for b in ame:\n",
    "        listings_df_v4.at[idx, b] = 1\n",
    "listings_df_v4"
   ]
  },
  {
   "cell_type": "markdown",
   "metadata": {},
   "source": [
    "### Q7. 欠損値対応（1/2）：行削除\n",
    "Q4で確認したように，現実世界のデータは欠損値を含むことがしばしばある．欠損値は理由があって値が欠損しているのであれば，欠損していること自体に「意味がある」として，その情報をデータ解析に積極的に活用するべきである．しかし，学習モデルによっては，欠損値を含むデータの学習を行うことができない．そのため，欠損値を何らかの方法で事前に処理する必要がある．\n",
    "\n",
    "欠損値の対応としては，下記のような方法などが提案されている．\n",
    "* 欠損値の除去\n",
    "    * 欠損値を含む行をデータから除外する方法（リストワイズ除去）\n",
    "    * 欠損値を含む列をデータから除外する方法（ペアワイズ除去）\n",
    "* 欠損値の補完\n",
    "    * 欠損値をそれを含む列データの代表値（平均や中央値など）で埋める方法\n",
    "    * 欠損値をそれを含む行と類似する行データ（k近傍データ）の平均値で埋める方法\n",
    "    * 多重代入法\n",
    "    \n",
    "Q6で準備したデータには欠損値が含まれている．当該データから欠損値を含む行を除外せよ（リストワイズ除去を実行せよ）．"
   ]
  },
  {
   "cell_type": "markdown",
   "metadata": {},
   "source": [
    "### Q8 ホールドアウト法\n",
    "ホールドアウト法は，データ全体を一定の割合で訓練データと評価データに分け，分割されたデータを用いてモデルの学習と評価を行う方法である．\n",
    "\n",
    "Q7で準備したデータを7対3の割合で訓練データと評価データに分割し，それらデータを用いて1泊あたりの宿泊費``price``を予測する線形回帰（単純な重回帰）モデルを構築せよ．さらに，課題Q8で用意した評価データを用いて，構築したモデルの精度評価を行え．\n",
    "\n",
    "なお，この課題では，何も考えずにすべての特徴量を学習・評価に利用せよ．また，評価指標は下記のMAE（Mean Absolute Error：平均絶対誤差），RMSE（Root Mean Square Error：二乗平均平方根誤差）を用いよ．\n",
    "\n",
    "$$\n",
    "MAE = \\frac{1}{n}\\sum^n_i |y_i - \\hat{y}_i| \\\\\n",
    "RMSE = \\sqrt{\\frac{1}{n}\\sum^n_i (y_i - \\hat{y}_i)^2}\n",
    "$$"
   ]
  },
  {
   "cell_type": "markdown",
   "metadata": {},
   "source": [
    "### Q9. 交差検証\n",
    "Q8で行ったホールドアウト法は，分割したデータに偏りがある場合，特定のデータに最適化された学習・評価が行われてしまうという欠点がある．この問題に対応する方法の1つが **交差検証法（Cross Validation）** である．交差検証法はデータをK個に分割し，そのうちの1つを評価用データ，残るK−1個を訓練データとした学習・評価をK回行い，得られた評価結果の平均値を最終的な評価指標として用いる方法である．\n",
    "\n",
    "Q7で構築したデータセットを5分割交差検証法を用いて，1泊あたりの宿泊費``price``を予測する線形回帰（単純な重回帰）モデルを構築し，構築した予測モデル（平均の）MAEとRMSEを計算せよ．"
   ]
  },
  {
   "cell_type": "markdown",
   "metadata": {},
   "source": [
    "### Q10. 外れ値処理\n",
    "Q4で確認したように，``listings.csv.gz``ファイルのデータには異常に大きな値や本来あり得ない値（例：宿泊費ゼロ），すなわち**外れ値**が含まれている．データの分布に基づきデータの解釈や予測モデルの構築を行う統計処理・機械学習では，外れ値の影響を受けやすい．そのため，前処理として外れ値を適切に処理することが重要である．\n",
    "\n",
    "外れ値の検出方法としては様々なものが提案されているが，その1つとして四分位範囲を用いたものがある．この方法では，第1四分位点（$Q_{1/4}$）から第3四分位点（$Q_{3/4}$）の範囲を四分位範囲（IQR）としたとき，\n",
    "\n",
    "$$ \n",
    "x < Q_{1/4} - 1.5 * IQR \\\\  \n",
    "x \\ge Q_{3/4}+1.5*IQR $$\n",
    "\n",
    "の範囲にある$x$，つまり四分位範囲の1.5倍の範囲外にある$x$を外れ値として見なす．1泊あたりの宿泊料金``price``が，先の条件を満たすもしくは値がゼロであるもの外れ値と見なし，それらを含む行を除いたデータをデータフレーム``listing_df_v6``に格納せよ．また，``listing_df_v6``を用いて，Q9と同様のことを行え．"
   ]
  },
  {
   "cell_type": "markdown",
   "metadata": {},
   "source": [
    "### Q11. 分散による特徴量選択\n",
    "与えられたデータの特徴量（属性）には，予測モデルの構築に寄与しないものが多く含まれている．特徴量が大量にある場合，予測性能の低下を招くだけでなく，\n",
    "* 学習にかかる計算コストが大きくなる，\n",
    "* 学習そのものがうまく進まなくなる（例：次元の呪い）\n",
    "* モデルの解釈が難しくなる\n",
    "\n",
    "といった問題も生じる．このような問題に対応するため，有効な特徴量のみを残したまま，特徴量を減らす**特徴選択**が行われることがある．\n",
    "\n",
    "特徴選択には\n",
    "* Filter法：目的変数と説明変数（特徴量）の関係性だけを評価して，関連性の低い説明変数を取り除く（例：相関係数，ANOVA，相互情報量，カイ二乗係数）\n",
    "* Wrapper法：特徴量の部分集合を用いてモデルの訓練を繰り返し行いながら，性能向上に寄与する特徴量を選択する\n",
    "* Embedded法：モデルの学習と同時に予測に用いる特徴量を自動的に選択する（例：Lasso回帰）\n",
    "\n",
    "の3つの方法に大別される．しかし，これらの特徴選択法を適用する前提として，分散がゼロあるいはサンプル大半で値が同じになる特徴量は，汎化性能を低下させる可能性があり，予測に寄与しないとして除外することがある．例えば今回の課題であれば，``toilet``という属性の値の99%が1（トイレあり）で残り1%がゼロ（トイレなし）であったケースなどである．\n",
    "\n",
    "データフレーム``listing_df_v6``から，分散がゼロの特徴量，あるいは値の99%が同じ値である特徴量を除外し，その結果をデータフレーム``listing_df_v7``に格納せよ．"
   ]
  },
  {
   "cell_type": "markdown",
   "metadata": {},
   "source": [
    "### Q12. 目的変数と説明変数の相関分析\n",
    "特徴量選択の方法の1つであるフィルター法として，目的変数と説明変数（特徴量）との相関係数が大きいものを優先的に採用する方法がある．相関係数による特徴量選択を行うために，``price``属性とその他の属性の相関係数を求め，その上位30件を表示せよ．"
   ]
  },
  {
   "cell_type": "markdown",
   "metadata": {},
   "source": [
    "### Q13. 相関係数による特徴量選択\n",
    "``listing_df_v7``における``price``値の予測モデルの構築において，相関係数に基づく特徴量選択を行い，相関係数が大きい上位k件の特徴量を用いて線形回帰モデルを構築することを考える．選択する特徴量の個数をk=1から1ずつ増やしていった際の，学習時間，MAE，RMSEの変化を折れ線グラフで図示せよ．"
   ]
  },
  {
   "cell_type": "markdown",
   "metadata": {},
   "source": [
    "### Q14. 欠損値対応（2/2）：代表値補完\n",
    "Q7では欠損値を含む行を削除することで，欠損値に対応をした（リストワイズ除去）．この方法は学習・評価に用いるデータ数が少なくなるという欠点がある．また，欠損値を含むデータに対する予測を行うことができない．この問題に対応するために，欠損値をそれを含む列のデータの中央値で埋め，再度線形回帰モデルの学習・評価を行え．"
   ]
  },
  {
   "cell_type": "markdown",
   "metadata": {},
   "source": [
    "### Q15. 総合課題\n",
    "学習モデルの選択，特徴量の設計選択，欠損値，外れ値処理などを工夫して，1泊あたりの宿泊費``price``をより高い精度で予測する回帰モデルを構築せよ．"
   ]
  }
 ],
 "metadata": {
  "kernelspec": {
   "display_name": "Python 3.8.5 64-bit",
   "language": "python",
   "name": "python_defaultSpec_1597749027018"
  },
  "language_info": {
   "codemirror_mode": {
    "name": "ipython",
    "version": 3
   },
   "file_extension": ".py",
   "mimetype": "text/x-python",
   "name": "python",
   "nbconvert_exporter": "python",
   "pygments_lexer": "ipython3",
   "version": "3.8.5-final"
  }
 },
 "nbformat": 4,
 "nbformat_minor": 4
}