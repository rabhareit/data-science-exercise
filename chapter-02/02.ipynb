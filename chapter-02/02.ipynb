{
 "cells": [
  {
   "cell_type": "markdown",
   "metadata": {},
   "source": [
    "# 教師なし学習"
   ]
  },
  {
   "cell_type": "markdown",
   "metadata": {},
   "source": [
    "## Q1. 類似度（1/2）（ユークリッド距離とコサイン類似度）\n",
    "下2次元のユークリッド空間上に，13個のデータ点が図のように分布している状況を考える（各点の座標については，下記コードのリストdataに収められている）．\n",
    "\n",
    "N次元空間上の任意の点$v_1$，$v_2$が与えられたとき，$v_1$と$v_2$のユークリッド距離を求める関数calc_euclidean_dist(v1, v2)，コサイン類似度を求める関数calc_cosine_sim(v1, v2)を実装せよ．さらに，下図の13つの点のすべての組み合わせについて，そのユークリッド距離とコサイン類似度を求めよ．\n",
    "\n",
    "なお，実装する関数の第1引数および第2引数は，実数のリストを想定せよ．"
   ]
  },
  {
   "cell_type": "code",
   "execution_count": 2,
   "metadata": {},
   "outputs": [],
   "source": [
    "import seaborn as sns\n",
    "import matplotlib.pyplot as plt\n",
    "\n",
    "sns.set()\n",
    "sns.set_style('ticks')\n",
    "%matplotlib inline"
   ]
  },
  {
   "cell_type": "code",
   "execution_count": 3,
   "metadata": {},
   "outputs": [
    {
     "output_type": "display_data",
     "data": {
      "text/plain": "<Figure size 432x288 with 1 Axes>",
      "image/svg+xml": "<?xml version=\"1.0\" encoding=\"utf-8\" standalone=\"no\"?>\n<!DOCTYPE svg PUBLIC \"-//W3C//DTD SVG 1.1//EN\"\n  \"http://www.w3.org/Graphics/SVG/1.1/DTD/svg11.dtd\">\n<!-- Created with matplotlib (https://matplotlib.org/) -->\n<svg height=\"251.399844pt\" version=\"1.1\" viewBox=\"0 0 370.934062 251.399844\" width=\"370.934062pt\" xmlns=\"http://www.w3.org/2000/svg\" xmlns:xlink=\"http://www.w3.org/1999/xlink\">\n <defs>\n  <style type=\"text/css\">\n*{stroke-linecap:butt;stroke-linejoin:round;}\n  </style>\n </defs>\n <g id=\"figure_1\">\n  <g id=\"patch_1\">\n   <path d=\"M 0 251.399844 \nL 370.934062 251.399844 \nL 370.934062 0 \nL 0 0 \nz\n\" style=\"fill:none;\"/>\n  </g>\n  <g id=\"axes_1\">\n   <g id=\"patch_2\">\n    <path d=\"M 28.934062 224.64 \nL 363.734062 224.64 \nL 363.734062 7.2 \nL 28.934062 7.2 \nz\n\" style=\"fill:#ffffff;\"/>\n   </g>\n   <g id=\"matplotlib.axis_1\">\n    <g id=\"xtick_1\">\n     <g id=\"line2d_1\">\n      <defs>\n       <path d=\"M 0 0 \nL 0 6 \n\" id=\"m8d55ff7531\" style=\"stroke:#262626;stroke-width:1.25;\"/>\n      </defs>\n      <g>\n       <use style=\"fill:#262626;stroke:#262626;stroke-width:1.25;\" x=\"28.934062\" xlink:href=\"#m8d55ff7531\" y=\"224.64\"/>\n      </g>\n     </g>\n     <g id=\"text_1\">\n      <!-- 0 -->\n      <defs>\n       <path d=\"M 4.15625 35.296875 \nQ 4.15625 48 6.765625 55.734375 \nQ 9.375 63.484375 14.515625 67.671875 \nQ 19.671875 71.875 27.484375 71.875 \nQ 33.25 71.875 37.59375 69.546875 \nQ 41.9375 67.234375 44.765625 62.859375 \nQ 47.609375 58.5 49.21875 52.21875 \nQ 50.828125 45.953125 50.828125 35.296875 \nQ 50.828125 22.703125 48.234375 14.96875 \nQ 45.65625 7.234375 40.5 3 \nQ 35.359375 -1.21875 27.484375 -1.21875 \nQ 17.140625 -1.21875 11.234375 6.203125 \nQ 4.15625 15.140625 4.15625 35.296875 \nz\nM 13.1875 35.296875 \nQ 13.1875 17.671875 17.3125 11.828125 \nQ 21.4375 6 27.484375 6 \nQ 33.546875 6 37.671875 11.859375 \nQ 41.796875 17.71875 41.796875 35.296875 \nQ 41.796875 52.984375 37.671875 58.78125 \nQ 33.546875 64.59375 27.390625 64.59375 \nQ 21.34375 64.59375 17.71875 59.46875 \nQ 13.1875 52.9375 13.1875 35.296875 \nz\n\" id=\"ArialMT-48\"/>\n      </defs>\n      <g style=\"fill:#262626;\" transform=\"translate(25.875547 242.013594)scale(0.11 -0.11)\">\n       <use xlink:href=\"#ArialMT-48\"/>\n      </g>\n     </g>\n    </g>\n    <g id=\"xtick_2\">\n     <g id=\"line2d_2\">\n      <g>\n       <use style=\"fill:#262626;stroke:#262626;stroke-width:1.25;\" x=\"80.441755\" xlink:href=\"#m8d55ff7531\" y=\"224.64\"/>\n      </g>\n     </g>\n     <g id=\"text_2\">\n      <!-- 2 -->\n      <defs>\n       <path d=\"M 50.34375 8.453125 \nL 50.34375 0 \nL 3.03125 0 \nQ 2.9375 3.171875 4.046875 6.109375 \nQ 5.859375 10.9375 9.828125 15.625 \nQ 13.8125 20.3125 21.34375 26.46875 \nQ 33.015625 36.03125 37.109375 41.625 \nQ 41.21875 47.21875 41.21875 52.203125 \nQ 41.21875 57.421875 37.46875 61 \nQ 33.734375 64.59375 27.734375 64.59375 \nQ 21.390625 64.59375 17.578125 60.78125 \nQ 13.765625 56.984375 13.71875 50.25 \nL 4.6875 51.171875 \nQ 5.609375 61.28125 11.65625 66.578125 \nQ 17.71875 71.875 27.9375 71.875 \nQ 38.234375 71.875 44.234375 66.15625 \nQ 50.25 60.453125 50.25 52 \nQ 50.25 47.703125 48.484375 43.546875 \nQ 46.734375 39.40625 42.65625 34.8125 \nQ 38.578125 30.21875 29.109375 22.21875 \nQ 21.1875 15.578125 18.9375 13.203125 \nQ 16.703125 10.84375 15.234375 8.453125 \nz\n\" id=\"ArialMT-50\"/>\n      </defs>\n      <g style=\"fill:#262626;\" transform=\"translate(77.383239 242.013594)scale(0.11 -0.11)\">\n       <use xlink:href=\"#ArialMT-50\"/>\n      </g>\n     </g>\n    </g>\n    <g id=\"xtick_3\">\n     <g id=\"line2d_3\">\n      <g>\n       <use style=\"fill:#262626;stroke:#262626;stroke-width:1.25;\" x=\"131.949447\" xlink:href=\"#m8d55ff7531\" y=\"224.64\"/>\n      </g>\n     </g>\n     <g id=\"text_3\">\n      <!-- 4 -->\n      <defs>\n       <path d=\"M 32.328125 0 \nL 32.328125 17.140625 \nL 1.265625 17.140625 \nL 1.265625 25.203125 \nL 33.9375 71.578125 \nL 41.109375 71.578125 \nL 41.109375 25.203125 \nL 50.78125 25.203125 \nL 50.78125 17.140625 \nL 41.109375 17.140625 \nL 41.109375 0 \nz\nM 32.328125 25.203125 \nL 32.328125 57.46875 \nL 9.90625 25.203125 \nz\n\" id=\"ArialMT-52\"/>\n      </defs>\n      <g style=\"fill:#262626;\" transform=\"translate(128.890931 242.013594)scale(0.11 -0.11)\">\n       <use xlink:href=\"#ArialMT-52\"/>\n      </g>\n     </g>\n    </g>\n    <g id=\"xtick_4\">\n     <g id=\"line2d_4\">\n      <g>\n       <use style=\"fill:#262626;stroke:#262626;stroke-width:1.25;\" x=\"183.457139\" xlink:href=\"#m8d55ff7531\" y=\"224.64\"/>\n      </g>\n     </g>\n     <g id=\"text_4\">\n      <!-- 6 -->\n      <defs>\n       <path d=\"M 49.75 54.046875 \nL 41.015625 53.375 \nQ 39.84375 58.546875 37.703125 60.890625 \nQ 34.125 64.65625 28.90625 64.65625 \nQ 24.703125 64.65625 21.53125 62.3125 \nQ 17.390625 59.28125 14.984375 53.46875 \nQ 12.59375 47.65625 12.5 36.921875 \nQ 15.671875 41.75 20.265625 44.09375 \nQ 24.859375 46.4375 29.890625 46.4375 \nQ 38.671875 46.4375 44.84375 39.96875 \nQ 51.03125 33.5 51.03125 23.25 \nQ 51.03125 16.5 48.125 10.71875 \nQ 45.21875 4.9375 40.140625 1.859375 \nQ 35.0625 -1.21875 28.609375 -1.21875 \nQ 17.625 -1.21875 10.6875 6.859375 \nQ 3.765625 14.9375 3.765625 33.5 \nQ 3.765625 54.25 11.421875 63.671875 \nQ 18.109375 71.875 29.4375 71.875 \nQ 37.890625 71.875 43.28125 67.140625 \nQ 48.6875 62.40625 49.75 54.046875 \nz\nM 13.875 23.1875 \nQ 13.875 18.65625 15.796875 14.5 \nQ 17.71875 10.359375 21.1875 8.171875 \nQ 24.65625 6 28.46875 6 \nQ 34.03125 6 38.03125 10.484375 \nQ 42.046875 14.984375 42.046875 22.703125 \nQ 42.046875 30.125 38.078125 34.390625 \nQ 34.125 38.671875 28.125 38.671875 \nQ 22.171875 38.671875 18.015625 34.390625 \nQ 13.875 30.125 13.875 23.1875 \nz\n\" id=\"ArialMT-54\"/>\n      </defs>\n      <g style=\"fill:#262626;\" transform=\"translate(180.398624 242.013594)scale(0.11 -0.11)\">\n       <use xlink:href=\"#ArialMT-54\"/>\n      </g>\n     </g>\n    </g>\n    <g id=\"xtick_5\">\n     <g id=\"line2d_5\">\n      <g>\n       <use style=\"fill:#262626;stroke:#262626;stroke-width:1.25;\" x=\"234.964832\" xlink:href=\"#m8d55ff7531\" y=\"224.64\"/>\n      </g>\n     </g>\n     <g id=\"text_5\">\n      <!-- 8 -->\n      <defs>\n       <path d=\"M 17.671875 38.8125 \nQ 12.203125 40.828125 9.5625 44.53125 \nQ 6.9375 48.25 6.9375 53.421875 \nQ 6.9375 61.234375 12.546875 66.546875 \nQ 18.171875 71.875 27.484375 71.875 \nQ 36.859375 71.875 42.578125 66.421875 \nQ 48.296875 60.984375 48.296875 53.171875 \nQ 48.296875 48.1875 45.671875 44.5 \nQ 43.0625 40.828125 37.75 38.8125 \nQ 44.34375 36.671875 47.78125 31.875 \nQ 51.21875 27.09375 51.21875 20.453125 \nQ 51.21875 11.28125 44.71875 5.03125 \nQ 38.234375 -1.21875 27.640625 -1.21875 \nQ 17.046875 -1.21875 10.546875 5.046875 \nQ 4.046875 11.328125 4.046875 20.703125 \nQ 4.046875 27.6875 7.59375 32.390625 \nQ 11.140625 37.109375 17.671875 38.8125 \nz\nM 15.921875 53.71875 \nQ 15.921875 48.640625 19.1875 45.40625 \nQ 22.46875 42.1875 27.6875 42.1875 \nQ 32.765625 42.1875 36.015625 45.375 \nQ 39.265625 48.578125 39.265625 53.21875 \nQ 39.265625 58.0625 35.90625 61.359375 \nQ 32.5625 64.65625 27.59375 64.65625 \nQ 22.5625 64.65625 19.234375 61.421875 \nQ 15.921875 58.203125 15.921875 53.71875 \nz\nM 13.09375 20.65625 \nQ 13.09375 16.890625 14.875 13.375 \nQ 16.65625 9.859375 20.171875 7.921875 \nQ 23.6875 6 27.734375 6 \nQ 34.03125 6 38.125 10.046875 \nQ 42.234375 14.109375 42.234375 20.359375 \nQ 42.234375 26.703125 38.015625 30.859375 \nQ 33.796875 35.015625 27.4375 35.015625 \nQ 21.234375 35.015625 17.15625 30.90625 \nQ 13.09375 26.8125 13.09375 20.65625 \nz\n\" id=\"ArialMT-56\"/>\n      </defs>\n      <g style=\"fill:#262626;\" transform=\"translate(231.906316 242.013594)scale(0.11 -0.11)\">\n       <use xlink:href=\"#ArialMT-56\"/>\n      </g>\n     </g>\n    </g>\n    <g id=\"xtick_6\">\n     <g id=\"line2d_6\">\n      <g>\n       <use style=\"fill:#262626;stroke:#262626;stroke-width:1.25;\" x=\"286.472524\" xlink:href=\"#m8d55ff7531\" y=\"224.64\"/>\n      </g>\n     </g>\n     <g id=\"text_6\">\n      <!-- 10 -->\n      <defs>\n       <path d=\"M 37.25 0 \nL 28.46875 0 \nL 28.46875 56 \nQ 25.296875 52.984375 20.140625 49.953125 \nQ 14.984375 46.921875 10.890625 45.40625 \nL 10.890625 53.90625 \nQ 18.265625 57.375 23.78125 62.296875 \nQ 29.296875 67.234375 31.59375 71.875 \nL 37.25 71.875 \nz\n\" id=\"ArialMT-49\"/>\n      </defs>\n      <g style=\"fill:#262626;\" transform=\"translate(280.355493 242.013594)scale(0.11 -0.11)\">\n       <use xlink:href=\"#ArialMT-49\"/>\n       <use x=\"55.615234\" xlink:href=\"#ArialMT-48\"/>\n      </g>\n     </g>\n    </g>\n    <g id=\"xtick_7\">\n     <g id=\"line2d_7\">\n      <g>\n       <use style=\"fill:#262626;stroke:#262626;stroke-width:1.25;\" x=\"337.980216\" xlink:href=\"#m8d55ff7531\" y=\"224.64\"/>\n      </g>\n     </g>\n     <g id=\"text_7\">\n      <!-- 12 -->\n      <g style=\"fill:#262626;\" transform=\"translate(331.863185 242.013594)scale(0.11 -0.11)\">\n       <use xlink:href=\"#ArialMT-49\"/>\n       <use x=\"55.615234\" xlink:href=\"#ArialMT-50\"/>\n      </g>\n     </g>\n    </g>\n   </g>\n   <g id=\"matplotlib.axis_2\">\n    <g id=\"ytick_1\">\n     <g id=\"line2d_8\">\n      <defs>\n       <path d=\"M 0 0 \nL -6 0 \n\" id=\"m46f1d1ad3f\" style=\"stroke:#262626;stroke-width:1.25;\"/>\n      </defs>\n      <g>\n       <use style=\"fill:#262626;stroke:#262626;stroke-width:1.25;\" x=\"28.934062\" xlink:href=\"#m46f1d1ad3f\" y=\"224.64\"/>\n      </g>\n     </g>\n     <g id=\"text_8\">\n      <!-- 0 -->\n      <g style=\"fill:#262626;\" transform=\"translate(13.317031 228.576797)scale(0.11 -0.11)\">\n       <use xlink:href=\"#ArialMT-48\"/>\n      </g>\n     </g>\n    </g>\n    <g id=\"ytick_2\">\n     <g id=\"line2d_9\">\n      <g>\n       <use style=\"fill:#262626;stroke:#262626;stroke-width:1.25;\" x=\"28.934062\" xlink:href=\"#m46f1d1ad3f\" y=\"191.187692\"/>\n      </g>\n     </g>\n     <g id=\"text_9\">\n      <!-- 2 -->\n      <g style=\"fill:#262626;\" transform=\"translate(13.317031 195.124489)scale(0.11 -0.11)\">\n       <use xlink:href=\"#ArialMT-50\"/>\n      </g>\n     </g>\n    </g>\n    <g id=\"ytick_3\">\n     <g id=\"line2d_10\">\n      <g>\n       <use style=\"fill:#262626;stroke:#262626;stroke-width:1.25;\" x=\"28.934062\" xlink:href=\"#m46f1d1ad3f\" y=\"157.735385\"/>\n      </g>\n     </g>\n     <g id=\"text_10\">\n      <!-- 4 -->\n      <g style=\"fill:#262626;\" transform=\"translate(13.317031 161.672181)scale(0.11 -0.11)\">\n       <use xlink:href=\"#ArialMT-52\"/>\n      </g>\n     </g>\n    </g>\n    <g id=\"ytick_4\">\n     <g id=\"line2d_11\">\n      <g>\n       <use style=\"fill:#262626;stroke:#262626;stroke-width:1.25;\" x=\"28.934062\" xlink:href=\"#m46f1d1ad3f\" y=\"124.283077\"/>\n      </g>\n     </g>\n     <g id=\"text_11\">\n      <!-- 6 -->\n      <g style=\"fill:#262626;\" transform=\"translate(13.317031 128.219874)scale(0.11 -0.11)\">\n       <use xlink:href=\"#ArialMT-54\"/>\n      </g>\n     </g>\n    </g>\n    <g id=\"ytick_5\">\n     <g id=\"line2d_12\">\n      <g>\n       <use style=\"fill:#262626;stroke:#262626;stroke-width:1.25;\" x=\"28.934062\" xlink:href=\"#m46f1d1ad3f\" y=\"90.830769\"/>\n      </g>\n     </g>\n     <g id=\"text_12\">\n      <!-- 8 -->\n      <g style=\"fill:#262626;\" transform=\"translate(13.317031 94.767566)scale(0.11 -0.11)\">\n       <use xlink:href=\"#ArialMT-56\"/>\n      </g>\n     </g>\n    </g>\n    <g id=\"ytick_6\">\n     <g id=\"line2d_13\">\n      <g>\n       <use style=\"fill:#262626;stroke:#262626;stroke-width:1.25;\" x=\"28.934062\" xlink:href=\"#m46f1d1ad3f\" y=\"57.378462\"/>\n      </g>\n     </g>\n     <g id=\"text_13\">\n      <!-- 10 -->\n      <g style=\"fill:#262626;\" transform=\"translate(7.2 61.315258)scale(0.11 -0.11)\">\n       <use xlink:href=\"#ArialMT-49\"/>\n       <use x=\"55.615234\" xlink:href=\"#ArialMT-48\"/>\n      </g>\n     </g>\n    </g>\n    <g id=\"ytick_7\">\n     <g id=\"line2d_14\">\n      <g>\n       <use style=\"fill:#262626;stroke:#262626;stroke-width:1.25;\" x=\"28.934062\" xlink:href=\"#m46f1d1ad3f\" y=\"23.926154\"/>\n      </g>\n     </g>\n     <g id=\"text_14\">\n      <!-- 12 -->\n      <g style=\"fill:#262626;\" transform=\"translate(7.2 27.862951)scale(0.11 -0.11)\">\n       <use xlink:href=\"#ArialMT-49\"/>\n       <use x=\"55.615234\" xlink:href=\"#ArialMT-50\"/>\n      </g>\n     </g>\n    </g>\n   </g>\n   <g id=\"PathCollection_1\">\n    <defs>\n     <path d=\"M 0 3 \nC 0.795609 3 1.55874 2.683901 2.12132 2.12132 \nC 2.683901 1.55874 3 0.795609 3 0 \nC 3 -0.795609 2.683901 -1.55874 2.12132 -2.12132 \nC 1.55874 -2.683901 0.795609 -3 0 -3 \nC -0.795609 -3 -1.55874 -2.683901 -2.12132 -2.12132 \nC -2.683901 -1.55874 -3 -0.795609 -3 0 \nC -3 0.795609 -2.683901 1.55874 -2.12132 2.12132 \nC -1.55874 2.683901 -0.795609 3 0 3 \nz\n\" id=\"m2d25cafa11\" style=\"stroke:#ffffff;stroke-width:0.75;\"/>\n    </defs>\n    <g clip-path=\"url(#pc3e38ce292)\">\n     <use style=\"fill:#4c72b0;stroke:#ffffff;stroke-width:0.75;\" x=\"80.441755\" xlink:href=\"#m2d25cafa11\" y=\"191.187692\"/>\n     <use style=\"fill:#4c72b0;stroke:#ffffff;stroke-width:0.75;\" x=\"106.195601\" xlink:href=\"#m2d25cafa11\" y=\"157.735385\"/>\n     <use style=\"fill:#4c72b0;stroke:#ffffff;stroke-width:0.75;\" x=\"157.703293\" xlink:href=\"#m2d25cafa11\" y=\"191.187692\"/>\n     <use style=\"fill:#4c72b0;stroke:#ffffff;stroke-width:0.75;\" x=\"286.472524\" xlink:href=\"#m2d25cafa11\" y=\"141.009231\"/>\n     <use style=\"fill:#4c72b0;stroke:#ffffff;stroke-width:0.75;\" x=\"260.718678\" xlink:href=\"#m2d25cafa11\" y=\"174.461538\"/>\n     <use style=\"fill:#4c72b0;stroke:#ffffff;stroke-width:0.75;\" x=\"312.22637\" xlink:href=\"#m2d25cafa11\" y=\"157.735385\"/>\n     <use style=\"fill:#4c72b0;stroke:#ffffff;stroke-width:0.75;\" x=\"337.980216\" xlink:href=\"#m2d25cafa11\" y=\"174.461538\"/>\n     <use style=\"fill:#4c72b0;stroke:#ffffff;stroke-width:0.75;\" x=\"337.980216\" xlink:href=\"#m2d25cafa11\" y=\"124.283077\"/>\n     <use style=\"fill:#4c72b0;stroke:#ffffff;stroke-width:0.75;\" x=\"131.949447\" xlink:href=\"#m2d25cafa11\" y=\"57.378462\"/>\n     <use style=\"fill:#4c72b0;stroke:#ffffff;stroke-width:0.75;\" x=\"131.949447\" xlink:href=\"#m2d25cafa11\" y=\"90.830769\"/>\n     <use style=\"fill:#4c72b0;stroke:#ffffff;stroke-width:0.75;\" x=\"183.457139\" xlink:href=\"#m2d25cafa11\" y=\"90.830769\"/>\n     <use style=\"fill:#4c72b0;stroke:#ffffff;stroke-width:0.75;\" x=\"209.210986\" xlink:href=\"#m2d25cafa11\" y=\"57.378462\"/>\n     <use style=\"fill:#4c72b0;stroke:#ffffff;stroke-width:0.75;\" x=\"209.210986\" xlink:href=\"#m2d25cafa11\" y=\"124.283077\"/>\n    </g>\n   </g>\n   <g id=\"patch_3\">\n    <path d=\"M 28.934062 224.64 \nL 28.934062 7.2 \n\" style=\"fill:none;stroke:#262626;stroke-linecap:square;stroke-linejoin:miter;stroke-width:1.25;\"/>\n   </g>\n   <g id=\"patch_4\">\n    <path d=\"M 363.734062 224.64 \nL 363.734062 7.2 \n\" style=\"fill:none;stroke:#262626;stroke-linecap:square;stroke-linejoin:miter;stroke-width:1.25;\"/>\n   </g>\n   <g id=\"patch_5\">\n    <path d=\"M 28.934062 224.64 \nL 363.734062 224.64 \n\" style=\"fill:none;stroke:#262626;stroke-linecap:square;stroke-linejoin:miter;stroke-width:1.25;\"/>\n   </g>\n   <g id=\"patch_6\">\n    <path d=\"M 28.934062 7.2 \nL 363.734062 7.2 \n\" style=\"fill:none;stroke:#262626;stroke-linecap:square;stroke-linejoin:miter;stroke-width:1.25;\"/>\n   </g>\n  </g>\n </g>\n <defs>\n  <clipPath id=\"pc3e38ce292\">\n   <rect height=\"217.44\" width=\"334.8\" x=\"28.934062\" y=\"7.2\"/>\n  </clipPath>\n </defs>\n</svg>\n",
      "image/png": "[encoded data removed]"
     },
     "metadata": {
      "needs_background": "light"
     }
    }
   ],
   "source": [
    "data = [(2, 2), (3, 4), (5, 2), (10, 5), (9, 3),\n",
    "        (11, 4), (12, 3), (12, 6), (4, 10), (4, 8),\n",
    "        (6, 8), (7, 10), (7, 6)]\n",
    "\n",
    "xs, ys = zip(*data) # zipの逆操作\n",
    "\n",
    "# 可視化\n",
    "ax = sns.scatterplot(x=xs, y=ys)\n",
    "ax.set_xlim(0, 13)\n",
    "ax.set_ylim(0, 13)\n",
    "plt.show()"
   ]
  },
  {
   "cell_type": "code",
   "execution_count": 4,
   "metadata": {},
   "outputs": [],
   "source": [
    "import math\n",
    "\n",
    "def calc_euclidean_dist(v1: list, v2: list):\n",
    "    \"\"\"\n",
    "    Args:\n",
    "        v1(list): 任意の点(n1, n2, ..., nn) \n",
    "        v2(list): 任意の点(n1, n2, ..., nn)\n",
    "    Returns:\n",
    "        euclidean_dist(float): 2点間のユークリッド距離\n",
    "    \"\"\"\n",
    "\n",
    "    temp = 0\n",
    "    for f1, f2 in zip(v1, v2):\n",
    "        temp += (f1 - f2) ** 2\n",
    "    return math.sqrt(temp)\n",
    "\n",
    "def calc_cosine_sim(v1, v2):\n",
    "    \"\"\"\n",
    "    Args:\n",
    "        v1(list): 任意の点(n1, n2, ..., nn) \n",
    "        v2(list): 任意の点(n1, n2, ..., nn)\n",
    "    Returns:\n",
    "        euclidean_dist(float): 2点間のコサイン類似度\n",
    "    \"\"\"\n",
    "\n",
    "    temp_ab = 0\n",
    "    temp_a = 0\n",
    "    temp_b = 0\n",
    "\n",
    "    for f1, f2 in zip(v1, v2):\n",
    "        temp_ab += f1 * f2\n",
    "        temp_a += f1 ** 2\n",
    "        temp_b = f2 ** 2\n",
    "        return temp_ab / math.sqrt(temp_a) * math.sqrt(temp_b)\n"
   ]
  },
  {
   "cell_type": "code",
   "execution_count": 5,
   "metadata": {},
   "outputs": [],
   "source": [
    "euclidean_dict ={}\n",
    "cosine_dict = {}\n",
    "for i in range(len(data)):\n",
    "    for j in range(i, len(data)):\n",
    "        if i != j:\n",
    "            euclidean_dict[data[i], data[j]] = calc_euclidean_dist(data[i], data[j])\n",
    "            cosine_dict[data[i], data[j]] = calc_cosine_sim(data[i], data[j])\n"
   ]
  },
  {
   "cell_type": "code",
   "execution_count": 6,
   "metadata": {
    "tags": []
   },
   "outputs": [
    {
     "output_type": "stream",
     "name": "stdout",
     "text": "ユークリッド距離\n"
    },
    {
     "output_type": "execute_result",
     "data": {
      "text/plain": "{((2, 2), (3, 4)): 2.23606797749979,\n ((2, 2), (5, 2)): 3.0,\n ((2, 2), (10, 5)): 8.54400374531753,\n ((2, 2), (9, 3)): 7.0710678118654755,\n ((2, 2), (11, 4)): 9.219544457292887,\n ((2, 2), (12, 3)): 10.04987562112089,\n ((2, 2), (12, 6)): 10.770329614269007,\n ((2, 2), (4, 10)): 8.246211251235321,\n ((2, 2), (4, 8)): 6.324555320336759,\n ((2, 2), (6, 8)): 7.211102550927978,\n ((2, 2), (7, 10)): 9.433981132056603,\n ((2, 2), (7, 6)): 6.4031242374328485,\n ((3, 4), (5, 2)): 2.8284271247461903,\n ((3, 4), (10, 5)): 7.0710678118654755,\n ((3, 4), (9, 3)): 6.082762530298219,\n ((3, 4), (11, 4)): 8.0,\n ((3, 4), (12, 3)): 9.055385138137417,\n ((3, 4), (12, 6)): 9.219544457292887,\n ((3, 4), (4, 10)): 6.082762530298219,\n ((3, 4), (4, 8)): 4.123105625617661,\n ((3, 4), (6, 8)): 5.0,\n ((3, 4), (7, 10)): 7.211102550927978,\n ((3, 4), (7, 6)): 4.47213595499958,\n ((5, 2), (10, 5)): 5.830951894845301,\n ((5, 2), (9, 3)): 4.123105625617661,\n ((5, 2), (11, 4)): 6.324555320336759,\n ((5, 2), (12, 3)): 7.0710678118654755,\n ((5, 2), (12, 6)): 8.06225774829855,\n ((5, 2), (4, 10)): 8.06225774829855,\n ((5, 2), (4, 8)): 6.082762530298219,\n ((5, 2), (6, 8)): 6.082762530298219,\n ((5, 2), (7, 10)): 8.246211251235321,\n ((5, 2), (7, 6)): 4.47213595499958,\n ((10, 5), (9, 3)): 2.23606797749979,\n ((10, 5), (11, 4)): 1.4142135623730951,\n ((10, 5), (12, 3)): 2.8284271247461903,\n ((10, 5), (12, 6)): 2.23606797749979,\n ((10, 5), (4, 10)): 7.810249675906654,\n ((10, 5), (4, 8)): 6.708203932499369,\n ((10, 5), (6, 8)): 5.0,\n ((10, 5), (7, 10)): 5.830951894845301,\n ((10, 5), (7, 6)): 3.1622776601683795,\n ((9, 3), (11, 4)): 2.23606797749979,\n ((9, 3), (12, 3)): 3.0,\n ((9, 3), (12, 6)): 4.242640687119285,\n ((9, 3), (4, 10)): 8.602325267042627,\n ((9, 3), (4, 8)): 7.0710678118654755,\n ((9, 3), (6, 8)): 5.830951894845301,\n ((9, 3), (7, 10)): 7.280109889280518,\n ((9, 3), (7, 6)): 3.605551275463989,\n ((11, 4), (12, 3)): 1.4142135623730951,\n ((11, 4), (12, 6)): 2.23606797749979,\n ((11, 4), (4, 10)): 9.219544457292887,\n ((11, 4), (4, 8)): 8.06225774829855,\n ((11, 4), (6, 8)): 6.4031242374328485,\n ((11, 4), (7, 10)): 7.211102550927978,\n ((11, 4), (7, 6)): 4.47213595499958,\n ((12, 3), (12, 6)): 3.0,\n ((12, 3), (4, 10)): 10.63014581273465,\n ((12, 3), (4, 8)): 9.433981132056603,\n ((12, 3), (6, 8)): 7.810249675906654,\n ((12, 3), (7, 10)): 8.602325267042627,\n ((12, 3), (7, 6)): 5.830951894845301,\n ((12, 6), (4, 10)): 8.94427190999916,\n ((12, 6), (4, 8)): 8.246211251235321,\n ((12, 6), (6, 8)): 6.324555320336759,\n ((12, 6), (7, 10)): 6.4031242374328485,\n ((12, 6), (7, 6)): 5.0,\n ((4, 10), (4, 8)): 2.0,\n ((4, 10), (6, 8)): 2.8284271247461903,\n ((4, 10), (7, 10)): 3.0,\n ((4, 10), (7, 6)): 5.0,\n ((4, 8), (6, 8)): 2.0,\n ((4, 8), (7, 10)): 3.605551275463989,\n ((4, 8), (7, 6)): 3.605551275463989,\n ((6, 8), (7, 10)): 2.23606797749979,\n ((6, 8), (7, 6)): 2.23606797749979,\n ((7, 10), (7, 6)): 4.0}"
     },
     "metadata": {},
     "execution_count": 6
    }
   ],
   "source": [
    "print('ユークリッド距離')\n",
    "euclidean_dict"
   ]
  },
  {
   "cell_type": "code",
   "execution_count": 7,
   "metadata": {
    "tags": []
   },
   "outputs": [
    {
     "output_type": "stream",
     "name": "stdout",
     "text": "コサイン類似度\n"
    },
    {
     "output_type": "execute_result",
     "data": {
      "text/plain": "{((2, 2), (3, 4)): 9.0,\n ((2, 2), (5, 2)): 25.0,\n ((2, 2), (10, 5)): 100.0,\n ((2, 2), (9, 3)): 81.0,\n ((2, 2), (11, 4)): 121.0,\n ((2, 2), (12, 3)): 144.0,\n ((2, 2), (12, 6)): 144.0,\n ((2, 2), (4, 10)): 16.0,\n ((2, 2), (4, 8)): 16.0,\n ((2, 2), (6, 8)): 36.0,\n ((2, 2), (7, 10)): 49.0,\n ((2, 2), (7, 6)): 49.0,\n ((3, 4), (5, 2)): 25.0,\n ((3, 4), (10, 5)): 100.0,\n ((3, 4), (9, 3)): 81.0,\n ((3, 4), (11, 4)): 121.0,\n ((3, 4), (12, 3)): 144.0,\n ((3, 4), (12, 6)): 144.0,\n ((3, 4), (4, 10)): 16.0,\n ((3, 4), (4, 8)): 16.0,\n ((3, 4), (6, 8)): 36.0,\n ((3, 4), (7, 10)): 49.0,\n ((3, 4), (7, 6)): 49.0,\n ((5, 2), (10, 5)): 100.0,\n ((5, 2), (9, 3)): 81.0,\n ((5, 2), (11, 4)): 121.0,\n ((5, 2), (12, 3)): 144.0,\n ((5, 2), (12, 6)): 144.0,\n ((5, 2), (4, 10)): 16.0,\n ((5, 2), (4, 8)): 16.0,\n ((5, 2), (6, 8)): 36.0,\n ((5, 2), (7, 10)): 49.0,\n ((5, 2), (7, 6)): 49.0,\n ((10, 5), (9, 3)): 81.0,\n ((10, 5), (11, 4)): 121.0,\n ((10, 5), (12, 3)): 144.0,\n ((10, 5), (12, 6)): 144.0,\n ((10, 5), (4, 10)): 16.0,\n ((10, 5), (4, 8)): 16.0,\n ((10, 5), (6, 8)): 36.0,\n ((10, 5), (7, 10)): 49.0,\n ((10, 5), (7, 6)): 49.0,\n ((9, 3), (11, 4)): 121.0,\n ((9, 3), (12, 3)): 144.0,\n ((9, 3), (12, 6)): 144.0,\n ((9, 3), (4, 10)): 16.0,\n ((9, 3), (4, 8)): 16.0,\n ((9, 3), (6, 8)): 36.0,\n ((9, 3), (7, 10)): 49.0,\n ((9, 3), (7, 6)): 49.0,\n ((11, 4), (12, 3)): 144.0,\n ((11, 4), (12, 6)): 144.0,\n ((11, 4), (4, 10)): 16.0,\n ((11, 4), (4, 8)): 16.0,\n ((11, 4), (6, 8)): 36.0,\n ((11, 4), (7, 10)): 49.0,\n ((11, 4), (7, 6)): 49.0,\n ((12, 3), (12, 6)): 144.0,\n ((12, 3), (4, 10)): 16.0,\n ((12, 3), (4, 8)): 16.0,\n ((12, 3), (6, 8)): 36.0,\n ((12, 3), (7, 10)): 49.0,\n ((12, 3), (7, 6)): 49.0,\n ((12, 6), (4, 10)): 16.0,\n ((12, 6), (4, 8)): 16.0,\n ((12, 6), (6, 8)): 36.0,\n ((12, 6), (7, 10)): 49.0,\n ((12, 6), (7, 6)): 49.0,\n ((4, 10), (4, 8)): 16.0,\n ((4, 10), (6, 8)): 36.0,\n ((4, 10), (7, 10)): 49.0,\n ((4, 10), (7, 6)): 49.0,\n ((4, 8), (6, 8)): 36.0,\n ((4, 8), (7, 10)): 49.0,\n ((4, 8), (7, 6)): 49.0,\n ((6, 8), (7, 10)): 49.0,\n ((6, 8), (7, 6)): 49.0,\n ((7, 10), (7, 6)): 49.0}"
     },
     "metadata": {},
     "execution_count": 7
    }
   ],
   "source": [
    "print('コサイン類似度')\n",
    "cosine_dict"
   ]
  },
  {
   "cell_type": "markdown",
   "metadata": {},
   "source": [
    "## Q2. 類似度（2/2）（類似度の解釈）\n",
    "Q1で扱ったデータ集合において，点$v=(11, 4)$との最も類似する点（最近傍点）を求めたい．ユークリッド空間の各次元の意味，最近傍点の定義が下記のような設定である場合，点の類似性を評価する関数としてユークリッド距離，コサイン類似度のどちらを用いるのが適切か考察しながら，最近傍点を求めよ．\n",
    "\n",
    "1. 各点は都市の位置情報を表しており，第1次元は「緯度」，第2次元は「経度」を意味する．最近傍点として，**物理的距離が近い都市**を見つけたいケース．\n",
    "2. 各点はユーザの購買傾向を表しており，第1次元は「ジャンルAに属する商品を購入した回数」，第2次元は「ジャンルBに属する商品を購入した回数」を意味する．最近傍点として，**購買傾向が似ているユーザ**を見つけたいケース．"
   ]
  },
  {
   "cell_type": "code",
   "execution_count": 64,
   "metadata": {
    "tags": []
   },
   "outputs": [
    {
     "output_type": "stream",
     "name": "stdout",
     "text": "case 1\n((12, 3), 1.4142135623730951)\n"
    }
   ],
   "source": [
    "print('case 1')\n",
    "\n",
    "dists = {}\n",
    "\n",
    "for i in range(0, len(data)):\n",
    "    for d in data:\n",
    "        if d != (11, 4):\n",
    "            dists[d] = calc_euclidean_dist((11, 4), d)\n",
    "print(sorted(dists.items(), key=lambda x:x[1])[1])\n"
   ]
  },
  {
   "cell_type": "code",
   "execution_count": 65,
   "metadata": {
    "tags": []
   },
   "outputs": [
    {
     "output_type": "stream",
     "name": "stdout",
     "text": "case 2\n((12, 6), 144.0)\n"
    }
   ],
   "source": [
    "print('case 2')\n",
    "\n",
    "sims = {}\n",
    "\n",
    "for i in range(0, len(data)):\n",
    "    for d in data:\n",
    "        if d != (11, 4):\n",
    "            sims[d] = calc_cosine_sim((11, 4), d)\n",
    "print(sorted(sims.items(), key=lambda x:x[1])[-1])\n"
   ]
  },
  {
   "cell_type": "markdown",
   "metadata": {},
   "source": [
    "## Q3. K-means（1/3）（実装）\n",
    "\n",
    "Q1で扱った13個のデータ点について，K-means法を用いて3つのクラスタに分割したい．\n",
    "\n",
    "K-means法は，N個のデータ集合$D=\\{x_1, x_2, ..., x_n\\}$が与えられたとき，以下の手順でデータ集合をK個のクラスタに分割する：\n",
    "\n",
    "1. データ集合からランダムにK個のデータを選択し，それぞれをクラスタ中心（centroid）とする．\n",
    "2. データ集合$D$中の各データ$d \\in D$について，K個のクラスタ中心との距離を比較し，最も距離が小さいクラスタにデータ$d$を割り当てる．\n",
    "3. 各クラスタに属するデータの重心（平均）をクラスタ中心として更新する．\n",
    "4. 各クラスタに割り当てられるデータが変化しなくなるまで，2と3の処理を繰り返す．\n",
    "\n",
    "上記手順に従ってK-means法を実装し，対象データを3つのクラスタに分割せよ．\n",
    "\n",
    "なお，この課題では``sklearn``ライブラリ等のクラスタリングメソッドを用いないこと．また，データ間の距離の計算にはユークリッド距離を用いよ．"
   ]
  },
  {
   "cell_type": "code",
   "execution_count": 68,
   "metadata": {},
   "outputs": [],
   "source": [
    "import pandas\n",
    "\n",
    "def find_nearest_centroid(data, centroids):\n",
    "    \"\"\"\n",
    "    Args:\n",
    "        data(list): 任意の点\n",
    "        centroids(list(list(int))): 任意の点のリスト\n",
    "    Returns:\n",
    "        nearest_centrooid(list): 最も近いクラスタ中心\n",
    "    \"\"\"\n",
    "    return sorted(centroids, key=lambda x:calc_euclidean_dist(x, data))[0]\n",
    "\n",
    "\n",
    "def calc_center(data):\n",
    "    \"\"\"\n",
    "    Args:\n",
    "        data(list): 任意の点のリスト\n",
    "    Returns:\n",
    "        center(list): 重心\n",
    "    \"\"\"\n",
    "\n",
    "    temp_x = 0\n",
    "    temp_y = 0\n",
    "    for d in data:\n",
    "        temp_x += d[0]\n",
    "        temp_y += d[1]\n",
    "\n",
    "    # TODO Handl ZeroDivisionError\n",
    "    return (temp_x/len(data), temp_y/len(data))\n",
    "\n",
    "    # TODO n次元に対応\n",
    "    \"\"\"\n",
    "    temp_frame = pandas.DataFrame()\n",
    "    for cluster in clusters.values():\n",
    "        for c in cluster:\n",
    "            #print(c, pandas.DataFrame(c))\n",
    "            temp_frame = pandas.DataFrame(columns=range(len(c)))\n",
    "            #print(pandas.DataFrame([*c], columns=[range(len(c))]))\n",
    "            temp_frame.append(pandas.DataFrame([*c], columns=[range(len(c))]))\n",
    "        print(temp_frame)\n",
    "    \"\"\"    \n"
   ]
  },
  {
   "cell_type": "code",
   "execution_count": 49,
   "metadata": {
    "tags": []
   },
   "outputs": [
    {
     "output_type": "stream",
     "name": "stdout",
     "text": "{(5.6, 8.4): [(4, 10), (4, 8), (6, 8), (7, 10), (7, 6)], (3.3333333333333335, 2.6666666666666665): [(2, 2), (3, 4), (5, 2)], (10.8, 4.2): [(10, 5), (9, 3), (11, 4), (12, 3), (12, 6)]}\n"
    }
   ],
   "source": [
    "import random\n",
    "\n",
    "def k_means(data, centroids):\n",
    "    \"\"\"\n",
    "    Args:\n",
    "        data(list): クラスタリング対象のデータ\n",
    "        centroids(list): k個のクラスタの中心点\n",
    "    Returns:\n",
    "        classes(dict): {'中心点': クラスタリングされた点のリスト}\n",
    "    \"\"\"\n",
    "\n",
    "    clusters = {}\n",
    "    for c in centroids:\n",
    "        clusters[c] = list()\n",
    "\n",
    "    for d in data:\n",
    "        if d not in centroids:\n",
    "            clusters[find_nearest_centroid(d, centroids)].append(d)\n",
    "\n",
    "    new_centroids = [calc_center(c) for c in clusters.values()]\n",
    "\n",
    "    if centroids != new_centroids:\n",
    "        k_means(data, new_centroids)\n",
    "    else:\n",
    "        print(clusters)\n",
    "        return clusters\n",
    "\n",
    "    \n",
    "centroids = random.sample(data, 3)\n",
    "k_means(data, centroids)"
   ]
  },
  {
   "cell_type": "markdown",
   "metadata": {},
   "source": [
    "### Q4. K-means（2/3）（初期値）\n",
    "Q4で実装したK-means法は，クラスタ中心の初期値をランダムに割り当てているため，初期値によってはクラスタリングの結果が大きく変わってしまうことがある．この問題を回避するために，様々なアプローチが提案されている．KKZ法はクラスタ中心の初期化手法の1つであり，「最も距離が離れているデータ同士を初期値クラスタ中心を選択する」というものである．KKZ法の具体的な手順は以下の通りである：\n",
    "\n",
    "1. 与えられたデータ集合$D$からデータ同士の距離が最大となる2つのデータを選択する．それら2つを初期のクラスタ中心$c1$，$c2$とする．\n",
    "2. 初期のクラスタ中心として選ばれていない各データについて，既に選ばれている各クラスタ中心との距離を計算し，その最小値を保存しておく．\n",
    "3. ステップ2で計算した値が最大となるデータ$d$を初期のクラスタ中心として追加する．\n",
    "4. 初期のクラスタ中心がK個（クラスタ分割数）になるまで，ステップ2および3を繰り返す．\n",
    "\n",
    "KKZ法によって初期クラスタ中心を選択する関数``find_initial_centroids``を実装し，Q4で実装したK-means法を改良せよ．"
   ]
  },
  {
   "cell_type": "code",
   "execution_count": 50,
   "metadata": {},
   "outputs": [],
   "source": [
    "def calc_euclidean_dist_match(data):\n",
    "    \"\"\"\n",
    "    Args:\n",
    "        data(list): 対象データのリスト\n",
    "    Returns:\n",
    "        euclidean_dict(dict): ユークリッド距離の組み合わせ\n",
    "    \"\"\"\n",
    "    euclidean_dict ={}\n",
    "    for i in range(len(data)):\n",
    "        for j in range(i, len(data)):\n",
    "            if i != j:\n",
    "                euclidean_dict[data[i], data[j]] = calc_euclidean_dist(data[i], data[j])\n",
    "    return euclidean_dict\n"
   ]
  },
  {
   "cell_type": "code",
   "execution_count": 82,
   "metadata": {
    "tags": []
   },
   "outputs": [
    {
     "output_type": "stream",
     "name": "stdout",
     "text": "[(2, 2), (12, 6), (7, 6)]\n"
    }
   ],
   "source": [
    "def find_initial_centroids(data, k):\n",
    "    matches = calc_euclidean_dist_match(data)\n",
    "    init_centroids = list(sorted(matches.items(), key=lambda x:x[1])[-1:][0][0])\n",
    "    \n",
    "    while len(init_centroids) != k:\n",
    "        remaining = list(filter(lambda x:x not in init_centroids, data))\n",
    "        init_centroids.append(sorted(remaining, key=lambda x:find_nearest_centroid(x,init_centroids))[-1])\n",
    "\n",
    "    return init_centroids\n",
    "\n",
    "print(find_initial_centroids(data, 3))"
   ]
  },
  {
   "cell_type": "code",
   "execution_count": null,
   "metadata": {},
   "outputs": [],
   "source": []
  }
 ],
 "metadata": {
  "kernelspec": {
   "display_name": "Python 3.7.4 64-bit",
   "language": "python",
   "name": "python37464bit3b5b8de6bd4d47bdbd3444b5aeeb05aa"
  },
  "language_info": {
   "codemirror_mode": {
    "name": "ipython",
    "version": 3
   },
   "file_extension": ".py",
   "mimetype": "text/x-python",
   "name": "python",
   "nbconvert_exporter": "python",
   "pygments_lexer": "ipython3",
   "version": "3.7.4-final"
  }
 },
 "nbformat": 4,
 "nbformat_minor": 2
}